{
 "cells": [
  {
   "cell_type": "markdown",
   "metadata": {},
   "source": [
    "##  Gonna Predict the price of used electronics .\n",
    "- This is a task from **machinehack**\n",
    "- Below is my implimentation i tried to do the prediction. "
   ]
  },
  {
   "cell_type": "markdown",
   "metadata": {},
   "source": [
    "## Owner.. stephen kamau\n",
    " - Email **stiveckamash@gmail.com**\n",
    " - phone **0798355947**\n",
    " \n",
    " \n",
    " - Feel free to modify and compaire the scores"
   ]
  },
  {
   "cell_type": "markdown",
   "metadata": {},
   "source": [
    "# prediction of used electronics by machine hack..\n",
    "### link ...    -Thsi is the link for the task\n",
    "- https://www.machinehack.com/hackathons/used_electronics_price_prediction_weekend_hackathon_7"
   ]
  },
  {
   "cell_type": "code",
   "execution_count": 118,
   "metadata": {},
   "outputs": [],
   "source": [
    "# import libs\n",
    "import pandas as pd \n",
    "import numpy as np\n",
    "import matplotlib.pyplot as plt\n",
    "import seaborn as sns\n",
    "%matplotlib inline"
   ]
  },
  {
   "cell_type": "code",
   "execution_count": 119,
   "metadata": {},
   "outputs": [],
   "source": [
    "# read data\n",
    "train = pd.read_csv(\"Train.csv\")\n",
    "test = pd.read_csv(\"Test.csv\")\n",
    "sub = pd.read_excel(\"sub.xlsx\")"
   ]
  },
  {
   "cell_type": "code",
   "execution_count": 120,
   "metadata": {},
   "outputs": [
    {
     "data": {
      "text/html": [
       "<div>\n",
       "<style scoped>\n",
       "    .dataframe tbody tr th:only-of-type {\n",
       "        vertical-align: middle;\n",
       "    }\n",
       "\n",
       "    .dataframe tbody tr th {\n",
       "        vertical-align: top;\n",
       "    }\n",
       "\n",
       "    .dataframe thead th {\n",
       "        text-align: right;\n",
       "    }\n",
       "</style>\n",
       "<table border=\"1\" class=\"dataframe\">\n",
       "  <thead>\n",
       "    <tr style=\"text-align: right;\">\n",
       "      <th></th>\n",
       "      <th>Price</th>\n",
       "    </tr>\n",
       "  </thead>\n",
       "  <tbody>\n",
       "    <tr>\n",
       "      <td>0</td>\n",
       "      <td>21773.398095</td>\n",
       "    </tr>\n",
       "    <tr>\n",
       "      <td>1</td>\n",
       "      <td>21277.682833</td>\n",
       "    </tr>\n",
       "    <tr>\n",
       "      <td>2</td>\n",
       "      <td>64172.642738</td>\n",
       "    </tr>\n",
       "    <tr>\n",
       "      <td>3</td>\n",
       "      <td>24174.489232</td>\n",
       "    </tr>\n",
       "    <tr>\n",
       "      <td>4</td>\n",
       "      <td>16453.462895</td>\n",
       "    </tr>\n",
       "  </tbody>\n",
       "</table>\n",
       "</div>"
      ],
      "text/plain": [
       "          Price\n",
       "0  21773.398095\n",
       "1  21277.682833\n",
       "2  64172.642738\n",
       "3  24174.489232\n",
       "4  16453.462895"
      ]
     },
     "execution_count": 120,
     "metadata": {},
     "output_type": "execute_result"
    }
   ],
   "source": [
    "#review them\n",
    "sub.head()"
   ]
  },
  {
   "cell_type": "code",
   "execution_count": 121,
   "metadata": {},
   "outputs": [
    {
     "data": {
      "text/html": [
       "<div>\n",
       "<style scoped>\n",
       "    .dataframe tbody tr th:only-of-type {\n",
       "        vertical-align: middle;\n",
       "    }\n",
       "\n",
       "    .dataframe tbody tr th {\n",
       "        vertical-align: top;\n",
       "    }\n",
       "\n",
       "    .dataframe thead th {\n",
       "        text-align: right;\n",
       "    }\n",
       "</style>\n",
       "<table border=\"1\" class=\"dataframe\">\n",
       "  <thead>\n",
       "    <tr style=\"text-align: right;\">\n",
       "      <th></th>\n",
       "      <th>Brand</th>\n",
       "      <th>Model_Info</th>\n",
       "      <th>Additional_Description</th>\n",
       "      <th>Locality</th>\n",
       "      <th>City</th>\n",
       "      <th>State</th>\n",
       "    </tr>\n",
       "  </thead>\n",
       "  <tbody>\n",
       "    <tr>\n",
       "      <td>0</td>\n",
       "      <td>1</td>\n",
       "      <td>name0 55s66s66s778xxsxsmax etc</td>\n",
       "      <td>good condition 11months old single scratch we...</td>\n",
       "      <td>570</td>\n",
       "      <td>11</td>\n",
       "      <td>4</td>\n",
       "    </tr>\n",
       "    <tr>\n",
       "      <td>1</td>\n",
       "      <td>1</td>\n",
       "      <td>slightly used excellent condition name0 5 sale</td>\n",
       "      <td>101008700 1010030600 1010034300 10100192200 1...</td>\n",
       "      <td>762</td>\n",
       "      <td>8</td>\n",
       "      <td>2</td>\n",
       "    </tr>\n",
       "    <tr>\n",
       "      <td>2</td>\n",
       "      <td>1</td>\n",
       "      <td>name0 sx ios12 top letast model bill call</td>\n",
       "      <td>1010017300 delivery</td>\n",
       "      <td>60</td>\n",
       "      <td>13</td>\n",
       "      <td>5</td>\n",
       "    </tr>\n",
       "    <tr>\n",
       "      <td>3</td>\n",
       "      <td>1</td>\n",
       "      <td>name87 name0 x 64gb going lowest 41900</td>\n",
       "      <td>phone 1010023400 64 gb excellent condition sale</td>\n",
       "      <td>640</td>\n",
       "      <td>15</td>\n",
       "      <td>5</td>\n",
       "    </tr>\n",
       "    <tr>\n",
       "      <td>4</td>\n",
       "      <td>1</td>\n",
       "      <td>name0 5s proper condition one handedly used</td>\n",
       "      <td>full kit available 10100248300 condition 4gb ...</td>\n",
       "      <td>816</td>\n",
       "      <td>2</td>\n",
       "      <td>6</td>\n",
       "    </tr>\n",
       "  </tbody>\n",
       "</table>\n",
       "</div>"
      ],
      "text/plain": [
       "   Brand                                       Model_Info  \\\n",
       "0      1                   name0 55s66s66s778xxsxsmax etc   \n",
       "1      1   slightly used excellent condition name0 5 sale   \n",
       "2      1        name0 sx ios12 top letast model bill call   \n",
       "3      1           name87 name0 x 64gb going lowest 41900   \n",
       "4      1      name0 5s proper condition one handedly used   \n",
       "\n",
       "                              Additional_Description  Locality  City  State  \n",
       "0   good condition 11months old single scratch we...       570    11      4  \n",
       "1   101008700 1010030600 1010034300 10100192200 1...       762     8      2  \n",
       "2                                1010017300 delivery        60    13      5  \n",
       "3    phone 1010023400 64 gb excellent condition sale       640    15      5  \n",
       "4   full kit available 10100248300 condition 4gb ...       816     2      6  "
      ]
     },
     "execution_count": 121,
     "metadata": {},
     "output_type": "execute_result"
    }
   ],
   "source": [
    "test.head()"
   ]
  },
  {
   "cell_type": "code",
   "execution_count": 122,
   "metadata": {},
   "outputs": [
    {
     "data": {
      "text/html": [
       "<div>\n",
       "<style scoped>\n",
       "    .dataframe tbody tr th:only-of-type {\n",
       "        vertical-align: middle;\n",
       "    }\n",
       "\n",
       "    .dataframe tbody tr th {\n",
       "        vertical-align: top;\n",
       "    }\n",
       "\n",
       "    .dataframe thead th {\n",
       "        text-align: right;\n",
       "    }\n",
       "</style>\n",
       "<table border=\"1\" class=\"dataframe\">\n",
       "  <thead>\n",
       "    <tr style=\"text-align: right;\">\n",
       "      <th></th>\n",
       "      <th>Brand</th>\n",
       "      <th>Model_Info</th>\n",
       "      <th>Additional_Description</th>\n",
       "      <th>Locality</th>\n",
       "      <th>City</th>\n",
       "      <th>State</th>\n",
       "      <th>Price</th>\n",
       "    </tr>\n",
       "  </thead>\n",
       "  <tbody>\n",
       "    <tr>\n",
       "      <td>0</td>\n",
       "      <td>1</td>\n",
       "      <td>name0 name234 64gb space grey</td>\n",
       "      <td>1yesr old mobile number 999two905two99 bill c...</td>\n",
       "      <td>878</td>\n",
       "      <td>8</td>\n",
       "      <td>2</td>\n",
       "      <td>15000</td>\n",
       "    </tr>\n",
       "    <tr>\n",
       "      <td>1</td>\n",
       "      <td>1</td>\n",
       "      <td>phone 7 name42 name453 new condition box acce...</td>\n",
       "      <td>101004800 1010065900 7000</td>\n",
       "      <td>1081</td>\n",
       "      <td>4</td>\n",
       "      <td>0</td>\n",
       "      <td>18800</td>\n",
       "    </tr>\n",
       "    <tr>\n",
       "      <td>2</td>\n",
       "      <td>1</td>\n",
       "      <td>name0 x 256gb leess used good condition</td>\n",
       "      <td>1010010000 seperate screen guard 3 back cover...</td>\n",
       "      <td>495</td>\n",
       "      <td>11</td>\n",
       "      <td>4</td>\n",
       "      <td>50000</td>\n",
       "    </tr>\n",
       "    <tr>\n",
       "      <td>3</td>\n",
       "      <td>1</td>\n",
       "      <td>name0 6s plus 64 gb space grey</td>\n",
       "      <td>without 1010020100 id 1010010300 colour 10100...</td>\n",
       "      <td>287</td>\n",
       "      <td>10</td>\n",
       "      <td>7</td>\n",
       "      <td>16500</td>\n",
       "    </tr>\n",
       "    <tr>\n",
       "      <td>4</td>\n",
       "      <td>1</td>\n",
       "      <td>phone 7 sealed pack brand new factory outet p...</td>\n",
       "      <td>101008700 10100000 xs max 64 gb made 10100850...</td>\n",
       "      <td>342</td>\n",
       "      <td>4</td>\n",
       "      <td>0</td>\n",
       "      <td>26499</td>\n",
       "    </tr>\n",
       "  </tbody>\n",
       "</table>\n",
       "</div>"
      ],
      "text/plain": [
       "   Brand                                         Model_Info  \\\n",
       "0      1                      name0 name234 64gb space grey   \n",
       "1      1   phone 7 name42 name453 new condition box acce...   \n",
       "2      1            name0 x 256gb leess used good condition   \n",
       "3      1                     name0 6s plus 64 gb space grey   \n",
       "4      1   phone 7 sealed pack brand new factory outet p...   \n",
       "\n",
       "                              Additional_Description  Locality  City  State  \\\n",
       "0   1yesr old mobile number 999two905two99 bill c...       878     8      2   \n",
       "1                          101004800 1010065900 7000      1081     4      0   \n",
       "2   1010010000 seperate screen guard 3 back cover...       495    11      4   \n",
       "3   without 1010020100 id 1010010300 colour 10100...       287    10      7   \n",
       "4   101008700 10100000 xs max 64 gb made 10100850...       342     4      0   \n",
       "\n",
       "   Price  \n",
       "0  15000  \n",
       "1  18800  \n",
       "2  50000  \n",
       "3  16500  \n",
       "4  26499  "
      ]
     },
     "execution_count": 122,
     "metadata": {},
     "output_type": "execute_result"
    }
   ],
   "source": [
    "train.head()"
   ]
  },
  {
   "cell_type": "code",
   "execution_count": 123,
   "metadata": {},
   "outputs": [],
   "source": [
    "#lets use wordclowd to see common words\n",
    "# !pip install wordcloud"
   ]
  },
  {
   "cell_type": "code",
   "execution_count": 124,
   "metadata": {},
   "outputs": [],
   "source": [
    "# nlp libs\n",
    "import sys\n",
    "sys.path.append('/usr/local/lib/python3.7/dist-packages')\n",
    "from wordcloud import WordCloud, STOPWORDS\n",
    "from sklearn.feature_extraction.text import CountVectorizer, TfidfVectorizer\n",
    "from nltk.tokenize import TreebankWordTokenizer"
   ]
  },
  {
   "cell_type": "markdown",
   "metadata": {},
   "source": [
    "### I will used wordcloud to see some common wordss from the df"
   ]
  },
  {
   "cell_type": "code",
   "execution_count": 125,
   "metadata": {},
   "outputs": [
    {
     "data": {
      "text/plain": [
       "<matplotlib.image.AxesImage at 0x7fc99e2ed850>"
      ]
     },
     "execution_count": 125,
     "metadata": {},
     "output_type": "execute_result"
    },
    {
     "data": {
      "image/png": "[encoded data removed]",
      "text/plain": [
       "<Figure size 432x288 with 1 Axes>"
      ]
     },
     "metadata": {
      "needs_background": "light"
     },
     "output_type": "display_data"
    }
   ],
   "source": [
    "# help(WordCloud)\n",
    "wl = WordCloud(background_color = 'white' ,min_font_size = 4 , margin = 2 ,ranks_only = None ,normalize_plurals = True ,\n",
    "         width = 500 , height = 350 , max_words = 50 , stopwords =  set(STOPWORDS ), random_state = 42)\n",
    "wl.generate(' '.join(train['Model_Info']))\n",
    "plt.imshow(wl)"
   ]
  },
  {
   "cell_type": "code",
   "execution_count": 126,
   "metadata": {},
   "outputs": [
    {
     "data": {
      "text/plain": [
       "<matplotlib.image.AxesImage at 0x7fc99e56f050>"
      ]
     },
     "execution_count": 126,
     "metadata": {},
     "output_type": "execute_result"
    },
    {
     "data": {
      "image/png": "[encoded data removed]",
      "text/plain": [
       "<Figure size 432x288 with 1 Axes>"
      ]
     },
     "metadata": {
      "needs_background": "light"
     },
     "output_type": "display_data"
    }
   ],
   "source": [
    "wl = WordCloud(background_color = 'white' ,min_font_size = 4 , margin = 2 ,ranks_only = None ,normalize_plurals = True ,\n",
    "         width = 500 , height = 350 , max_words = 50 , stopwords =  set(STOPWORDS ), random_state = 42)\n",
    "wl.generate(' '.join(test['Model_Info']))\n",
    "plt.imshow(wl)"
   ]
  },
  {
   "cell_type": "code",
   "execution_count": 127,
   "metadata": {},
   "outputs": [
    {
     "data": {
      "text/plain": [
       "<matplotlib.image.AxesImage at 0x7fc99ea3a910>"
      ]
     },
     "execution_count": 127,
     "metadata": {},
     "output_type": "execute_result"
    },
    {
     "data": {
      "image/png": "[encoded data removed]",
      "text/plain": [
       "<Figure size 432x288 with 1 Axes>"
      ]
     },
     "metadata": {
      "needs_background": "light"
     },
     "output_type": "display_data"
    }
   ],
   "source": [
    "wl = WordCloud(background_color = 'white' ,min_font_size = 4 , margin = 2 ,ranks_only = None ,normalize_plurals = True ,\n",
    "         width = 500 , height = 350 , max_words = 50 , stopwords =  set(STOPWORDS ), random_state = 42)\n",
    "wl.generate(' '.join(train['Additional_Description']))\n",
    "plt.imshow(wl)"
   ]
  },
  {
   "cell_type": "code",
   "execution_count": 128,
   "metadata": {},
   "outputs": [
    {
     "data": {
      "text/plain": [
       "<matplotlib.image.AxesImage at 0x7fc99e92e5d0>"
      ]
     },
     "execution_count": 128,
     "metadata": {},
     "output_type": "execute_result"
    },
    {
     "data": {
      "image/png": "[encoded data removed]",
      "text/plain": [
       "<Figure size 432x288 with 1 Axes>"
      ]
     },
     "metadata": {
      "needs_background": "light"
     },
     "output_type": "display_data"
    }
   ],
   "source": [
    "wl = WordCloud(background_color = 'white' ,min_font_size = 4 , margin = 2 ,ranks_only = None \n",
    "               ,normalize_plurals = True  ,max_words = 50 , stopwords =  set(STOPWORDS ), random_state = 42)\n",
    "wl.generate(' '.join(test['Additional_Description']))\n",
    "plt.imshow(wl)"
   ]
  },
  {
   "cell_type": "markdown",
   "metadata": {},
   "source": [
    "##  Some Infors from the abvove WordCloud Images\n",
    "\n",
    " - Most of the items  maybe be phones as indicated by the its numerours occurrence\n",
    " - the conditions of the electronics also mattered most\n",
    "             - This maybe either new   as shown by new keyword .\n",
    "             - Good conditions as showned above\n",
    "             - Storage space .. showed by **__gb size**\n",
    " - More are there to be included.\n",
    " \n",
    " \n",
    "##  Insight from above\n",
    " - Thsi insights may play an important role in price determination.\n",
    " - Hence I will therefore ....\n",
    "         - **Get the gb size for each row .. if it has more than one i will add them.**\n",
    "         - **Get if a phone is new and add 1 to it else 0**\n",
    "         - **Get if a phone is good and add 1 to it else 0**\n",
    "         - **If a it was a phoen add 1 else 0.**\n",
    " - I will add columns regrading this insights."
   ]
  },
  {
   "cell_type": "code",
   "execution_count": 14,
   "metadata": {},
   "outputs": [
    {
     "data": {
      "text/plain": [
       "(2326, 7)"
      ]
     },
     "execution_count": 14,
     "metadata": {},
     "output_type": "execute_result"
    }
   ],
   "source": [
    "train.shape"
   ]
  },
  {
   "cell_type": "code",
   "execution_count": 15,
   "metadata": {},
   "outputs": [
    {
     "data": {
      "text/plain": [
       "(997, 1)"
      ]
     },
     "execution_count": 15,
     "metadata": {},
     "output_type": "execute_result"
    }
   ],
   "source": [
    "sub.shape"
   ]
  },
  {
   "cell_type": "code",
   "execution_count": 16,
   "metadata": {},
   "outputs": [
    {
     "data": {
      "text/plain": [
       "(997, 6)"
      ]
     },
     "execution_count": 16,
     "metadata": {},
     "output_type": "execute_result"
    }
   ],
   "source": [
    "test.shape"
   ]
  },
  {
   "cell_type": "code",
   "execution_count": 17,
   "metadata": {},
   "outputs": [
    {
     "data": {
      "text/plain": [
       "Brand                     0\n",
       "Model_Info                0\n",
       "Additional_Description    0\n",
       "Locality                  0\n",
       "City                      0\n",
       "State                     0\n",
       "Price                     0\n",
       "dtype: int64"
      ]
     },
     "execution_count": 17,
     "metadata": {},
     "output_type": "execute_result"
    }
   ],
   "source": [
    "train.isnull().sum()"
   ]
  },
  {
   "cell_type": "code",
   "execution_count": 18,
   "metadata": {},
   "outputs": [
    {
     "data": {
      "text/plain": [
       "Brand                     0\n",
       "Model_Info                0\n",
       "Additional_Description    0\n",
       "Locality                  0\n",
       "City                      0\n",
       "State                     0\n",
       "dtype: int64"
      ]
     },
     "execution_count": 18,
     "metadata": {},
     "output_type": "execute_result"
    }
   ],
   "source": [
    "test.isnull().sum()"
   ]
  },
  {
   "cell_type": "code",
   "execution_count": 19,
   "metadata": {},
   "outputs": [],
   "source": [
    "#lets concat the data files..\n",
    "# gonna assign -1 to price column in the test file for differentiuation purposes\n",
    "test['Price'] = -1"
   ]
  },
  {
   "cell_type": "code",
   "execution_count": 20,
   "metadata": {},
   "outputs": [
    {
     "data": {
      "text/html": [
       "<div>\n",
       "<style scoped>\n",
       "    .dataframe tbody tr th:only-of-type {\n",
       "        vertical-align: middle;\n",
       "    }\n",
       "\n",
       "    .dataframe tbody tr th {\n",
       "        vertical-align: top;\n",
       "    }\n",
       "\n",
       "    .dataframe thead th {\n",
       "        text-align: right;\n",
       "    }\n",
       "</style>\n",
       "<table border=\"1\" class=\"dataframe\">\n",
       "  <thead>\n",
       "    <tr style=\"text-align: right;\">\n",
       "      <th></th>\n",
       "      <th>Brand</th>\n",
       "      <th>Model_Info</th>\n",
       "      <th>Additional_Description</th>\n",
       "      <th>Locality</th>\n",
       "      <th>City</th>\n",
       "      <th>State</th>\n",
       "      <th>Price</th>\n",
       "    </tr>\n",
       "  </thead>\n",
       "  <tbody>\n",
       "    <tr>\n",
       "      <td>992</td>\n",
       "      <td>1</td>\n",
       "      <td>name0 7 32gb sale accessories</td>\n",
       "      <td>wife upgrading mobile 10100000 x 101009600 sp...</td>\n",
       "      <td>796</td>\n",
       "      <td>4</td>\n",
       "      <td>0</td>\n",
       "      <td>-1</td>\n",
       "    </tr>\n",
       "    <tr>\n",
       "      <td>993</td>\n",
       "      <td>1</td>\n",
       "      <td>name233 8 pro 6gb ram 128gb rom 1year old mobile</td>\n",
       "      <td>101004800 1010036800 1 month 12 days old 1010...</td>\n",
       "      <td>145</td>\n",
       "      <td>17</td>\n",
       "      <td>7</td>\n",
       "      <td>-1</td>\n",
       "    </tr>\n",
       "    <tr>\n",
       "      <td>994</td>\n",
       "      <td>0</td>\n",
       "      <td>name233 name2815 6 gb ram 128 gb rom blue 3 m...</td>\n",
       "      <td>10100105200 leeco 1010018400 10100221100 1010...</td>\n",
       "      <td>352</td>\n",
       "      <td>13</td>\n",
       "      <td>5</td>\n",
       "      <td>-1</td>\n",
       "    </tr>\n",
       "    <tr>\n",
       "      <td>995</td>\n",
       "      <td>1</td>\n",
       "      <td>name269 phone 6</td>\n",
       "      <td>phone best condition 101006600 device selling...</td>\n",
       "      <td>350</td>\n",
       "      <td>4</td>\n",
       "      <td>0</td>\n",
       "      <td>-1</td>\n",
       "    </tr>\n",
       "    <tr>\n",
       "      <td>996</td>\n",
       "      <td>1</td>\n",
       "      <td>name0 7 red 128 gb</td>\n",
       "      <td>1010023300 9 10100148200 good condition compl...</td>\n",
       "      <td>602</td>\n",
       "      <td>11</td>\n",
       "      <td>4</td>\n",
       "      <td>-1</td>\n",
       "    </tr>\n",
       "  </tbody>\n",
       "</table>\n",
       "</div>"
      ],
      "text/plain": [
       "     Brand                                         Model_Info  \\\n",
       "992      1                      name0 7 32gb sale accessories   \n",
       "993      1   name233 8 pro 6gb ram 128gb rom 1year old mobile   \n",
       "994      0   name233 name2815 6 gb ram 128 gb rom blue 3 m...   \n",
       "995      1                                    name269 phone 6   \n",
       "996      1                                 name0 7 red 128 gb   \n",
       "\n",
       "                                Additional_Description  Locality  City  State  \\\n",
       "992   wife upgrading mobile 10100000 x 101009600 sp...       796     4      0   \n",
       "993   101004800 1010036800 1 month 12 days old 1010...       145    17      7   \n",
       "994   10100105200 leeco 1010018400 10100221100 1010...       352    13      5   \n",
       "995   phone best condition 101006600 device selling...       350     4      0   \n",
       "996   1010023300 9 10100148200 good condition compl...       602    11      4   \n",
       "\n",
       "     Price  \n",
       "992     -1  \n",
       "993     -1  \n",
       "994     -1  \n",
       "995     -1  \n",
       "996     -1  "
      ]
     },
     "execution_count": 20,
     "metadata": {},
     "output_type": "execute_result"
    }
   ],
   "source": [
    "test.tail()"
   ]
  },
  {
   "cell_type": "code",
   "execution_count": 129,
   "metadata": {},
   "outputs": [
    {
     "name": "stderr",
     "output_type": "stream",
     "text": [
      "/opt/anaconda/lib/python3.7/site-packages/ipykernel_launcher.py:2: FutureWarning: Sorting because non-concatenation axis is not aligned. A future version\n",
      "of pandas will change to not sort by default.\n",
      "\n",
      "To accept the future behavior, pass 'sort=False'.\n",
      "\n",
      "To retain the current behavior and silence the warning, pass 'sort=True'.\n",
      "\n",
      "  \n"
     ]
    }
   ],
   "source": [
    "#merge the data\n",
    "df = pd.concat([train , test] , axis = 0).reset_index(drop = True)"
   ]
  },
  {
   "cell_type": "code",
   "execution_count": 22,
   "metadata": {},
   "outputs": [
    {
     "data": {
      "text/plain": [
       "(3323, 7)"
      ]
     },
     "execution_count": 22,
     "metadata": {},
     "output_type": "execute_result"
    }
   ],
   "source": [
    "df.shape"
   ]
  },
  {
   "cell_type": "code",
   "execution_count": 23,
   "metadata": {},
   "outputs": [
    {
     "data": {
      "text/plain": [
       "Brand                     0\n",
       "Model_Info                0\n",
       "Additional_Description    0\n",
       "Locality                  0\n",
       "City                      0\n",
       "State                     0\n",
       "Price                     0\n",
       "dtype: int64"
      ]
     },
     "execution_count": 23,
     "metadata": {},
     "output_type": "execute_result"
    }
   ],
   "source": [
    "df.isnull().sum()"
   ]
  },
  {
   "cell_type": "code",
   "execution_count": null,
   "metadata": {},
   "outputs": [],
   "source": []
  },
  {
   "cell_type": "markdown",
   "metadata": {},
   "source": [
    "## Getting into some small analysis"
   ]
  },
  {
   "cell_type": "code",
   "execution_count": 24,
   "metadata": {},
   "outputs": [
    {
     "data": {
      "text/plain": [
       "<matplotlib.axes._subplots.AxesSubplot at 0x7fc9a073ee10>"
      ]
     },
     "execution_count": 24,
     "metadata": {},
     "output_type": "execute_result"
    },
    {
     "data": {
      "image/png": "[encoded data removed]",
      "text/plain": [
       "<Figure size 432x288 with 1 Axes>"
      ]
     },
     "metadata": {
      "needs_background": "light"
     },
     "output_type": "display_data"
    }
   ],
   "source": [
    "sns.distplot(df.State , vertical = False)"
   ]
  },
  {
   "cell_type": "markdown",
   "metadata": {},
   "source": [
    "### State with label number 5 maybe have been the greatest contributer\n",
    " - The others had alsmost same contribution to the purchases with state label 3 with lowest"
   ]
  },
  {
   "cell_type": "code",
   "execution_count": 25,
   "metadata": {},
   "outputs": [
    {
     "data": {
      "text/plain": [
       "<matplotlib.axes._subplots.AxesSubplot at 0x7fc9a073fc10>"
      ]
     },
     "execution_count": 25,
     "metadata": {},
     "output_type": "execute_result"
    },
    {
     "data": {
      "image/png": "[encoded data removed]",
      "text/plain": [
       "<Figure size 432x288 with 1 Axes>"
      ]
     },
     "metadata": {
      "needs_background": "light"
     },
     "output_type": "display_data"
    }
   ],
   "source": [
    "sns.distplot(df.Brand , vertical = False)"
   ]
  },
  {
   "cell_type": "markdown",
   "metadata": {},
   "source": [
    "## The most commodity bought was that with Brand labeled 1"
   ]
  },
  {
   "cell_type": "code",
   "execution_count": 26,
   "metadata": {},
   "outputs": [
    {
     "data": {
      "text/plain": [
       "<matplotlib.axes._subplots.AxesSubplot at 0x7fc99e67bd90>"
      ]
     },
     "execution_count": 26,
     "metadata": {},
     "output_type": "execute_result"
    },
    {
     "data": {
      "image/png": "[encoded data removed]",
      "text/plain": [
       "<Figure size 432x288 with 1 Axes>"
      ]
     },
     "metadata": {
      "needs_background": "light"
     },
     "output_type": "display_data"
    }
   ],
   "source": [
    "sns.distplot(df.City , vertical = False)"
   ]
  },
  {
   "cell_type": "markdown",
   "metadata": {},
   "source": [
    "##  City with label 0 has the highest"
   ]
  },
  {
   "cell_type": "code",
   "execution_count": 131,
   "metadata": {},
   "outputs": [],
   "source": [
    "##checking unique values in some cols"
   ]
  },
  {
   "cell_type": "code",
   "execution_count": 132,
   "metadata": {},
   "outputs": [
    {
     "data": {
      "text/plain": [
       "array([1, 2, 0, 3])"
      ]
     },
     "execution_count": 132,
     "metadata": {},
     "output_type": "execute_result"
    }
   ],
   "source": [
    "df.Brand.unique()"
   ]
  },
  {
   "cell_type": "code",
   "execution_count": 133,
   "metadata": {},
   "outputs": [
    {
     "data": {
      "text/plain": [
       "20"
      ]
     },
     "execution_count": 133,
     "metadata": {},
     "output_type": "execute_result"
    }
   ],
   "source": [
    "df.City.nunique()"
   ]
  },
  {
   "cell_type": "code",
   "execution_count": 29,
   "metadata": {},
   "outputs": [
    {
     "data": {
      "text/plain": [
       "9"
      ]
     },
     "execution_count": 29,
     "metadata": {},
     "output_type": "execute_result"
    }
   ],
   "source": [
    "df.State.nunique()"
   ]
  },
  {
   "cell_type": "code",
   "execution_count": 30,
   "metadata": {},
   "outputs": [
    {
     "data": {
      "text/plain": [
       "1192"
      ]
     },
     "execution_count": 30,
     "metadata": {},
     "output_type": "execute_result"
    }
   ],
   "source": [
    "df.Locality.nunique()"
   ]
  },
  {
   "cell_type": "markdown",
   "metadata": {},
   "source": [
    "## From the above i will encode using dummies Brand , City , State.\n",
    " - this is because they are almost same occurences encoded"
   ]
  },
  {
   "cell_type": "code",
   "execution_count": 31,
   "metadata": {},
   "outputs": [],
   "source": [
    "#lets create encode  Brand , City and State"
   ]
  },
  {
   "cell_type": "code",
   "execution_count": 32,
   "metadata": {},
   "outputs": [],
   "source": [
    "df = pd.get_dummies(df, columns = ['Brand', 'City', 'State'])"
   ]
  },
  {
   "cell_type": "code",
   "execution_count": 33,
   "metadata": {},
   "outputs": [
    {
     "data": {
      "text/html": [
       "<div>\n",
       "<style scoped>\n",
       "    .dataframe tbody tr th:only-of-type {\n",
       "        vertical-align: middle;\n",
       "    }\n",
       "\n",
       "    .dataframe tbody tr th {\n",
       "        vertical-align: top;\n",
       "    }\n",
       "\n",
       "    .dataframe thead th {\n",
       "        text-align: right;\n",
       "    }\n",
       "</style>\n",
       "<table border=\"1\" class=\"dataframe\">\n",
       "  <thead>\n",
       "    <tr style=\"text-align: right;\">\n",
       "      <th></th>\n",
       "      <th>Model_Info</th>\n",
       "      <th>Additional_Description</th>\n",
       "      <th>Locality</th>\n",
       "      <th>Price</th>\n",
       "      <th>Brand_0</th>\n",
       "      <th>Brand_1</th>\n",
       "      <th>Brand_2</th>\n",
       "      <th>Brand_3</th>\n",
       "      <th>City_0</th>\n",
       "      <th>City_1</th>\n",
       "      <th>...</th>\n",
       "      <th>City_19</th>\n",
       "      <th>State_0</th>\n",
       "      <th>State_1</th>\n",
       "      <th>State_2</th>\n",
       "      <th>State_3</th>\n",
       "      <th>State_4</th>\n",
       "      <th>State_5</th>\n",
       "      <th>State_6</th>\n",
       "      <th>State_7</th>\n",
       "      <th>State_8</th>\n",
       "    </tr>\n",
       "  </thead>\n",
       "  <tbody>\n",
       "    <tr>\n",
       "      <td>0</td>\n",
       "      <td>name0 name234 64gb space grey</td>\n",
       "      <td>1yesr old mobile number 999two905two99 bill c...</td>\n",
       "      <td>878</td>\n",
       "      <td>15000</td>\n",
       "      <td>0</td>\n",
       "      <td>1</td>\n",
       "      <td>0</td>\n",
       "      <td>0</td>\n",
       "      <td>0</td>\n",
       "      <td>0</td>\n",
       "      <td>...</td>\n",
       "      <td>0</td>\n",
       "      <td>0</td>\n",
       "      <td>0</td>\n",
       "      <td>1</td>\n",
       "      <td>0</td>\n",
       "      <td>0</td>\n",
       "      <td>0</td>\n",
       "      <td>0</td>\n",
       "      <td>0</td>\n",
       "      <td>0</td>\n",
       "    </tr>\n",
       "    <tr>\n",
       "      <td>1</td>\n",
       "      <td>phone 7 name42 name453 new condition box acce...</td>\n",
       "      <td>101004800 1010065900 7000</td>\n",
       "      <td>1081</td>\n",
       "      <td>18800</td>\n",
       "      <td>0</td>\n",
       "      <td>1</td>\n",
       "      <td>0</td>\n",
       "      <td>0</td>\n",
       "      <td>0</td>\n",
       "      <td>0</td>\n",
       "      <td>...</td>\n",
       "      <td>0</td>\n",
       "      <td>1</td>\n",
       "      <td>0</td>\n",
       "      <td>0</td>\n",
       "      <td>0</td>\n",
       "      <td>0</td>\n",
       "      <td>0</td>\n",
       "      <td>0</td>\n",
       "      <td>0</td>\n",
       "      <td>0</td>\n",
       "    </tr>\n",
       "    <tr>\n",
       "      <td>2</td>\n",
       "      <td>name0 x 256gb leess used good condition</td>\n",
       "      <td>1010010000 seperate screen guard 3 back cover...</td>\n",
       "      <td>495</td>\n",
       "      <td>50000</td>\n",
       "      <td>0</td>\n",
       "      <td>1</td>\n",
       "      <td>0</td>\n",
       "      <td>0</td>\n",
       "      <td>0</td>\n",
       "      <td>0</td>\n",
       "      <td>...</td>\n",
       "      <td>0</td>\n",
       "      <td>0</td>\n",
       "      <td>0</td>\n",
       "      <td>0</td>\n",
       "      <td>0</td>\n",
       "      <td>1</td>\n",
       "      <td>0</td>\n",
       "      <td>0</td>\n",
       "      <td>0</td>\n",
       "      <td>0</td>\n",
       "    </tr>\n",
       "    <tr>\n",
       "      <td>3</td>\n",
       "      <td>name0 6s plus 64 gb space grey</td>\n",
       "      <td>without 1010020100 id 1010010300 colour 10100...</td>\n",
       "      <td>287</td>\n",
       "      <td>16500</td>\n",
       "      <td>0</td>\n",
       "      <td>1</td>\n",
       "      <td>0</td>\n",
       "      <td>0</td>\n",
       "      <td>0</td>\n",
       "      <td>0</td>\n",
       "      <td>...</td>\n",
       "      <td>0</td>\n",
       "      <td>0</td>\n",
       "      <td>0</td>\n",
       "      <td>0</td>\n",
       "      <td>0</td>\n",
       "      <td>0</td>\n",
       "      <td>0</td>\n",
       "      <td>0</td>\n",
       "      <td>1</td>\n",
       "      <td>0</td>\n",
       "    </tr>\n",
       "    <tr>\n",
       "      <td>4</td>\n",
       "      <td>phone 7 sealed pack brand new factory outet p...</td>\n",
       "      <td>101008700 10100000 xs max 64 gb made 10100850...</td>\n",
       "      <td>342</td>\n",
       "      <td>26499</td>\n",
       "      <td>0</td>\n",
       "      <td>1</td>\n",
       "      <td>0</td>\n",
       "      <td>0</td>\n",
       "      <td>0</td>\n",
       "      <td>0</td>\n",
       "      <td>...</td>\n",
       "      <td>0</td>\n",
       "      <td>1</td>\n",
       "      <td>0</td>\n",
       "      <td>0</td>\n",
       "      <td>0</td>\n",
       "      <td>0</td>\n",
       "      <td>0</td>\n",
       "      <td>0</td>\n",
       "      <td>0</td>\n",
       "      <td>0</td>\n",
       "    </tr>\n",
       "  </tbody>\n",
       "</table>\n",
       "<p>5 rows × 37 columns</p>\n",
       "</div>"
      ],
      "text/plain": [
       "                                          Model_Info  \\\n",
       "0                      name0 name234 64gb space grey   \n",
       "1   phone 7 name42 name453 new condition box acce...   \n",
       "2            name0 x 256gb leess used good condition   \n",
       "3                     name0 6s plus 64 gb space grey   \n",
       "4   phone 7 sealed pack brand new factory outet p...   \n",
       "\n",
       "                              Additional_Description  Locality  Price  \\\n",
       "0   1yesr old mobile number 999two905two99 bill c...       878  15000   \n",
       "1                          101004800 1010065900 7000      1081  18800   \n",
       "2   1010010000 seperate screen guard 3 back cover...       495  50000   \n",
       "3   without 1010020100 id 1010010300 colour 10100...       287  16500   \n",
       "4   101008700 10100000 xs max 64 gb made 10100850...       342  26499   \n",
       "\n",
       "   Brand_0  Brand_1  Brand_2  Brand_3  City_0  City_1  ...  City_19  State_0  \\\n",
       "0        0        1        0        0       0       0  ...        0        0   \n",
       "1        0        1        0        0       0       0  ...        0        1   \n",
       "2        0        1        0        0       0       0  ...        0        0   \n",
       "3        0        1        0        0       0       0  ...        0        0   \n",
       "4        0        1        0        0       0       0  ...        0        1   \n",
       "\n",
       "   State_1  State_2  State_3  State_4  State_5  State_6  State_7  State_8  \n",
       "0        0        1        0        0        0        0        0        0  \n",
       "1        0        0        0        0        0        0        0        0  \n",
       "2        0        0        0        1        0        0        0        0  \n",
       "3        0        0        0        0        0        0        1        0  \n",
       "4        0        0        0        0        0        0        0        0  \n",
       "\n",
       "[5 rows x 37 columns]"
      ]
     },
     "execution_count": 33,
     "metadata": {},
     "output_type": "execute_result"
    }
   ],
   "source": [
    "df.head()"
   ]
  },
  {
   "cell_type": "code",
   "execution_count": null,
   "metadata": {},
   "outputs": [],
   "source": []
  },
  {
   "cell_type": "markdown",
   "metadata": {},
   "source": [
    "## Here Since Model_Info , Additionation Description Plays a bigger role in price description \n",
    " - I will vectorize them and create a df from the vectorized values\n",
    " - I'm Gonna used Model_Info only due to size and computation power cuurently..\n",
    " - You can used Additional Description if you can"
   ]
  },
  {
   "cell_type": "code",
   "execution_count": null,
   "metadata": {},
   "outputs": [],
   "source": []
  },
  {
   "cell_type": "code",
   "execution_count": null,
   "metadata": {},
   "outputs": [],
   "source": []
  },
  {
   "cell_type": "code",
   "execution_count": 34,
   "metadata": {},
   "outputs": [],
   "source": [
    "#create a countv ectorizer\n",
    "\n",
    "vec = TfidfVectorizer(tokenizer = TreebankWordTokenizer().tokenize , lowercase = True)\n",
    "vec_df = vec.fit_transform(df['Model_Info']).todense()\n",
    "# create a df from the vectorized data\n",
    "\n",
    "new_vec_df = pd.DataFrame(vec_df)\n",
    "\n",
    "# rename the columns of the vectorized columns\n",
    "new_vec_df.columns = [\"Model_Info_\" + str(x) for x in new_vec_df.columns]"
   ]
  },
  {
   "cell_type": "code",
   "execution_count": 35,
   "metadata": {
    "scrolled": true
   },
   "outputs": [
    {
     "data": {
      "text/html": [
       "<div>\n",
       "<style scoped>\n",
       "    .dataframe tbody tr th:only-of-type {\n",
       "        vertical-align: middle;\n",
       "    }\n",
       "\n",
       "    .dataframe tbody tr th {\n",
       "        vertical-align: top;\n",
       "    }\n",
       "\n",
       "    .dataframe thead th {\n",
       "        text-align: right;\n",
       "    }\n",
       "</style>\n",
       "<table border=\"1\" class=\"dataframe\">\n",
       "  <thead>\n",
       "    <tr style=\"text-align: right;\">\n",
       "      <th></th>\n",
       "      <th>Model_Info_0</th>\n",
       "      <th>Model_Info_1</th>\n",
       "      <th>Model_Info_2</th>\n",
       "      <th>Model_Info_3</th>\n",
       "      <th>Model_Info_4</th>\n",
       "      <th>Model_Info_5</th>\n",
       "      <th>Model_Info_6</th>\n",
       "      <th>Model_Info_7</th>\n",
       "      <th>Model_Info_8</th>\n",
       "      <th>Model_Info_9</th>\n",
       "      <th>...</th>\n",
       "      <th>Model_Info_1639</th>\n",
       "      <th>Model_Info_1640</th>\n",
       "      <th>Model_Info_1641</th>\n",
       "      <th>Model_Info_1642</th>\n",
       "      <th>Model_Info_1643</th>\n",
       "      <th>Model_Info_1644</th>\n",
       "      <th>Model_Info_1645</th>\n",
       "      <th>Model_Info_1646</th>\n",
       "      <th>Model_Info_1647</th>\n",
       "      <th>Model_Info_1648</th>\n",
       "    </tr>\n",
       "  </thead>\n",
       "  <tbody>\n",
       "    <tr>\n",
       "      <td>3321</td>\n",
       "      <td>0.0</td>\n",
       "      <td>0.0</td>\n",
       "      <td>0.0</td>\n",
       "      <td>0.0</td>\n",
       "      <td>0.0</td>\n",
       "      <td>0.0</td>\n",
       "      <td>0.0</td>\n",
       "      <td>0.0</td>\n",
       "      <td>0.0</td>\n",
       "      <td>0.0</td>\n",
       "      <td>...</td>\n",
       "      <td>0.0</td>\n",
       "      <td>0.0</td>\n",
       "      <td>0.0</td>\n",
       "      <td>0.0</td>\n",
       "      <td>0.0</td>\n",
       "      <td>0.0</td>\n",
       "      <td>0.0</td>\n",
       "      <td>0.0</td>\n",
       "      <td>0.0</td>\n",
       "      <td>0.0</td>\n",
       "    </tr>\n",
       "    <tr>\n",
       "      <td>3322</td>\n",
       "      <td>0.0</td>\n",
       "      <td>0.0</td>\n",
       "      <td>0.0</td>\n",
       "      <td>0.0</td>\n",
       "      <td>0.0</td>\n",
       "      <td>0.0</td>\n",
       "      <td>0.0</td>\n",
       "      <td>0.0</td>\n",
       "      <td>0.0</td>\n",
       "      <td>0.0</td>\n",
       "      <td>...</td>\n",
       "      <td>0.0</td>\n",
       "      <td>0.0</td>\n",
       "      <td>0.0</td>\n",
       "      <td>0.0</td>\n",
       "      <td>0.0</td>\n",
       "      <td>0.0</td>\n",
       "      <td>0.0</td>\n",
       "      <td>0.0</td>\n",
       "      <td>0.0</td>\n",
       "      <td>0.0</td>\n",
       "    </tr>\n",
       "  </tbody>\n",
       "</table>\n",
       "<p>2 rows × 1649 columns</p>\n",
       "</div>"
      ],
      "text/plain": [
       "      Model_Info_0  Model_Info_1  Model_Info_2  Model_Info_3  Model_Info_4  \\\n",
       "3321           0.0           0.0           0.0           0.0           0.0   \n",
       "3322           0.0           0.0           0.0           0.0           0.0   \n",
       "\n",
       "      Model_Info_5  Model_Info_6  Model_Info_7  Model_Info_8  Model_Info_9  \\\n",
       "3321           0.0           0.0           0.0           0.0           0.0   \n",
       "3322           0.0           0.0           0.0           0.0           0.0   \n",
       "\n",
       "      ...  Model_Info_1639  Model_Info_1640  Model_Info_1641  Model_Info_1642  \\\n",
       "3321  ...              0.0              0.0              0.0              0.0   \n",
       "3322  ...              0.0              0.0              0.0              0.0   \n",
       "\n",
       "      Model_Info_1643  Model_Info_1644  Model_Info_1645  Model_Info_1646  \\\n",
       "3321              0.0              0.0              0.0              0.0   \n",
       "3322              0.0              0.0              0.0              0.0   \n",
       "\n",
       "      Model_Info_1647  Model_Info_1648  \n",
       "3321              0.0              0.0  \n",
       "3322              0.0              0.0  \n",
       "\n",
       "[2 rows x 1649 columns]"
      ]
     },
     "execution_count": 35,
     "metadata": {},
     "output_type": "execute_result"
    }
   ],
   "source": [
    "#precheck\n",
    "new_vec_df.tail(2)"
   ]
  },
  {
   "cell_type": "code",
   "execution_count": null,
   "metadata": {},
   "outputs": [],
   "source": []
  },
  {
   "cell_type": "code",
   "execution_count": null,
   "metadata": {},
   "outputs": [],
   "source": []
  },
  {
   "cell_type": "code",
   "execution_count": null,
   "metadata": {},
   "outputs": [],
   "source": []
  },
  {
   "cell_type": "code",
   "execution_count": 36,
   "metadata": {},
   "outputs": [],
   "source": [
    "#lets concat with our df now // add to previous df\n",
    "df = pd.concat([df , new_vec_df ] , axis =1)"
   ]
  },
  {
   "cell_type": "code",
   "execution_count": 37,
   "metadata": {},
   "outputs": [
    {
     "data": {
      "text/html": [
       "<div>\n",
       "<style scoped>\n",
       "    .dataframe tbody tr th:only-of-type {\n",
       "        vertical-align: middle;\n",
       "    }\n",
       "\n",
       "    .dataframe tbody tr th {\n",
       "        vertical-align: top;\n",
       "    }\n",
       "\n",
       "    .dataframe thead th {\n",
       "        text-align: right;\n",
       "    }\n",
       "</style>\n",
       "<table border=\"1\" class=\"dataframe\">\n",
       "  <thead>\n",
       "    <tr style=\"text-align: right;\">\n",
       "      <th></th>\n",
       "      <th>Model_Info</th>\n",
       "      <th>Additional_Description</th>\n",
       "      <th>Locality</th>\n",
       "      <th>Price</th>\n",
       "      <th>Brand_0</th>\n",
       "      <th>Brand_1</th>\n",
       "      <th>Brand_2</th>\n",
       "      <th>Brand_3</th>\n",
       "      <th>City_0</th>\n",
       "      <th>City_1</th>\n",
       "      <th>...</th>\n",
       "      <th>Model_Info_1639</th>\n",
       "      <th>Model_Info_1640</th>\n",
       "      <th>Model_Info_1641</th>\n",
       "      <th>Model_Info_1642</th>\n",
       "      <th>Model_Info_1643</th>\n",
       "      <th>Model_Info_1644</th>\n",
       "      <th>Model_Info_1645</th>\n",
       "      <th>Model_Info_1646</th>\n",
       "      <th>Model_Info_1647</th>\n",
       "      <th>Model_Info_1648</th>\n",
       "    </tr>\n",
       "  </thead>\n",
       "  <tbody>\n",
       "    <tr>\n",
       "      <td>0</td>\n",
       "      <td>name0 name234 64gb space grey</td>\n",
       "      <td>1yesr old mobile number 999two905two99 bill c...</td>\n",
       "      <td>878</td>\n",
       "      <td>15000</td>\n",
       "      <td>0</td>\n",
       "      <td>1</td>\n",
       "      <td>0</td>\n",
       "      <td>0</td>\n",
       "      <td>0</td>\n",
       "      <td>0</td>\n",
       "      <td>...</td>\n",
       "      <td>0.0</td>\n",
       "      <td>0.0</td>\n",
       "      <td>0.0</td>\n",
       "      <td>0.0</td>\n",
       "      <td>0.0</td>\n",
       "      <td>0.0</td>\n",
       "      <td>0.0</td>\n",
       "      <td>0.0</td>\n",
       "      <td>0.0</td>\n",
       "      <td>0.0</td>\n",
       "    </tr>\n",
       "  </tbody>\n",
       "</table>\n",
       "<p>1 rows × 1686 columns</p>\n",
       "</div>"
      ],
      "text/plain": [
       "                       Model_Info  \\\n",
       "0   name0 name234 64gb space grey   \n",
       "\n",
       "                              Additional_Description  Locality  Price  \\\n",
       "0   1yesr old mobile number 999two905two99 bill c...       878  15000   \n",
       "\n",
       "   Brand_0  Brand_1  Brand_2  Brand_3  City_0  City_1  ...  Model_Info_1639  \\\n",
       "0        0        1        0        0       0       0  ...              0.0   \n",
       "\n",
       "   Model_Info_1640  Model_Info_1641  Model_Info_1642  Model_Info_1643  \\\n",
       "0              0.0              0.0              0.0              0.0   \n",
       "\n",
       "   Model_Info_1644  Model_Info_1645  Model_Info_1646  Model_Info_1647  \\\n",
       "0              0.0              0.0              0.0              0.0   \n",
       "\n",
       "   Model_Info_1648  \n",
       "0              0.0  \n",
       "\n",
       "[1 rows x 1686 columns]"
      ]
     },
     "execution_count": 37,
     "metadata": {},
     "output_type": "execute_result"
    }
   ],
   "source": [
    "df.head(1)"
   ]
  },
  {
   "cell_type": "markdown",
   "metadata": {},
   "source": [
    "## From Above ...Concerning the wordcloud..\n",
    "## Here is the functions implimentation on the insights"
   ]
  },
  {
   "cell_type": "code",
   "execution_count": null,
   "metadata": {},
   "outputs": [],
   "source": []
  },
  {
   "cell_type": "code",
   "execution_count": 38,
   "metadata": {},
   "outputs": [],
   "source": [
    "#ltes find how many gb the device have\n",
    "\n",
    "import re\n",
    "def find_gbs(data):\n",
    "    gb_search = re.findall('[0-9]+(?=\\s*gb)' , data)\n",
    "#     check if results availabel\n",
    "    if gb_search == 0:\n",
    "        return 0\n",
    "    else:\n",
    "#         return the first values\n",
    "        if len(gb_search) == 0:\n",
    "            value = 0\n",
    "        else:\n",
    "            value  = 0\n",
    "            for x in gb_search:\n",
    "                value = value + int(x)\n",
    "        return value"
   ]
  },
  {
   "cell_type": "code",
   "execution_count": null,
   "metadata": {},
   "outputs": [],
   "source": [
    "#we gonna check gb availaily to model infor and  additional description\n",
    "#create the two cols\n",
    "df[\"model_gb\"] = df[\"Model_Info\"].apply(lambda v: find_gbs(v))\n",
    "df[\"desc_gb\"] = df[\"Additional_Description\"].apply(lambda v: find_gbs(v))"
   ]
  },
  {
   "cell_type": "code",
   "execution_count": 39,
   "metadata": {},
   "outputs": [],
   "source": [
    "#checking if the device isa phone or not\n",
    "\n",
    "import re\n",
    "def phone(data):\n",
    "    p = re.findall(r'phone' , data)\n",
    "    if len(p) == 0:\n",
    "        return 0\n",
    "    else:\n",
    "        return 1"
   ]
  },
  {
   "cell_type": "code",
   "execution_count": 40,
   "metadata": {},
   "outputs": [],
   "source": [
    "#apply the phone function to create the new columns\n",
    "\n",
    "df[\"model_is_phone\"] = df[\"Model_Info\"].apply(lambda v: phone(v))\n",
    "df[\"desc_is_phone\"] = df[\"Additional_Description\"].apply(lambda v: phone(v))"
   ]
  },
  {
   "cell_type": "code",
   "execution_count": 41,
   "metadata": {},
   "outputs": [],
   "source": [
    "#check if its a new phoen\n",
    "\n",
    "import re\n",
    "def is_new(data):\n",
    "#     pattern = [\"new\" , \"good\"]\n",
    "    p = re.findall(r\"new\" , data )\n",
    "    if len(p) == 0:\n",
    "        return 0\n",
    "    else:\n",
    "        return 1"
   ]
  },
  {
   "cell_type": "code",
   "execution_count": 42,
   "metadata": {},
   "outputs": [],
   "source": [
    "# create cols for the function is_new()\n",
    "df[\"model_is_new\"] = df[\"Model_Info\"].apply(lambda v: is_new(v))\n",
    "df[\"desc_is_new\"] = df[\"Additional_Description\"].apply(lambda v: is_new(v))"
   ]
  },
  {
   "cell_type": "code",
   "execution_count": 43,
   "metadata": {},
   "outputs": [],
   "source": [
    "# checking if the device is in a good condition\n",
    "import re\n",
    "def is_good(data):\n",
    "#     pattern = [\"new\" , \"good\"]\n",
    "    p = re.findall(r\"good\" , data )\n",
    "    if len(p) == 0:\n",
    "        return 0\n",
    "    else:\n",
    "        return 1"
   ]
  },
  {
   "cell_type": "code",
   "execution_count": 44,
   "metadata": {},
   "outputs": [],
   "source": [
    "#apply the function and create the cols\n",
    "df[\"model_is_good\"] = df[\"Model_Info\"].apply(lambda v: is_good(v))\n",
    "df[\"desc_is_good\"] = df[\"Additional_Description\"].apply(lambda v: is_good(v))"
   ]
  },
  {
   "cell_type": "code",
   "execution_count": 45,
   "metadata": {},
   "outputs": [],
   "source": []
  },
  {
   "cell_type": "code",
   "execution_count": 46,
   "metadata": {},
   "outputs": [
    {
     "data": {
      "text/plain": [
       "0     64\n",
       "1      0\n",
       "2    256\n",
       "3     64\n",
       "4      0\n",
       "5    128\n",
       "6      0\n",
       "7     35\n",
       "8    732\n",
       "9    128\n",
       "Name: model_gb, dtype: int64"
      ]
     },
     "execution_count": 46,
     "metadata": {},
     "output_type": "execute_result"
    }
   ],
   "source": [
    "df.model_gb.head(10)"
   ]
  },
  {
   "cell_type": "code",
   "execution_count": 47,
   "metadata": {},
   "outputs": [],
   "source": [
    "#get back our train  and test sets.. by slicing\n",
    "train , test = df[:train.shape[0]].reset_index(drop=True) , df[train.shape[0]:].reset_index(drop = True)"
   ]
  },
  {
   "cell_type": "code",
   "execution_count": 48,
   "metadata": {},
   "outputs": [
    {
     "data": {
      "text/plain": [
       "(2326, 1694)"
      ]
     },
     "execution_count": 48,
     "metadata": {},
     "output_type": "execute_result"
    }
   ],
   "source": [
    "train.shape"
   ]
  },
  {
   "cell_type": "code",
   "execution_count": 49,
   "metadata": {},
   "outputs": [
    {
     "data": {
      "text/plain": [
       "(997, 1694)"
      ]
     },
     "execution_count": 49,
     "metadata": {},
     "output_type": "execute_result"
    }
   ],
   "source": [
    "test.shape"
   ]
  },
  {
   "cell_type": "code",
   "execution_count": 50,
   "metadata": {},
   "outputs": [
    {
     "data": {
      "text/html": [
       "<div>\n",
       "<style scoped>\n",
       "    .dataframe tbody tr th:only-of-type {\n",
       "        vertical-align: middle;\n",
       "    }\n",
       "\n",
       "    .dataframe tbody tr th {\n",
       "        vertical-align: top;\n",
       "    }\n",
       "\n",
       "    .dataframe thead th {\n",
       "        text-align: right;\n",
       "    }\n",
       "</style>\n",
       "<table border=\"1\" class=\"dataframe\">\n",
       "  <thead>\n",
       "    <tr style=\"text-align: right;\">\n",
       "      <th></th>\n",
       "      <th>Model_Info</th>\n",
       "      <th>Additional_Description</th>\n",
       "      <th>Locality</th>\n",
       "      <th>Brand_0</th>\n",
       "      <th>Brand_1</th>\n",
       "      <th>Brand_2</th>\n",
       "      <th>Brand_3</th>\n",
       "      <th>City_0</th>\n",
       "      <th>City_1</th>\n",
       "      <th>City_2</th>\n",
       "      <th>...</th>\n",
       "      <th>Model_Info_1647</th>\n",
       "      <th>Model_Info_1648</th>\n",
       "      <th>model_is_phone</th>\n",
       "      <th>desc_is_phone</th>\n",
       "      <th>model_is_new</th>\n",
       "      <th>desc_is_new</th>\n",
       "      <th>model_is_good</th>\n",
       "      <th>desc_is_good</th>\n",
       "      <th>model_gb</th>\n",
       "      <th>desc_gb</th>\n",
       "    </tr>\n",
       "  </thead>\n",
       "  <tbody>\n",
       "    <tr>\n",
       "      <td>0</td>\n",
       "      <td>name0 55s66s66s778xxsxsmax etc</td>\n",
       "      <td>good condition 11months old single scratch we...</td>\n",
       "      <td>570</td>\n",
       "      <td>0</td>\n",
       "      <td>1</td>\n",
       "      <td>0</td>\n",
       "      <td>0</td>\n",
       "      <td>0</td>\n",
       "      <td>0</td>\n",
       "      <td>0</td>\n",
       "      <td>...</td>\n",
       "      <td>0.0</td>\n",
       "      <td>0.0</td>\n",
       "      <td>0</td>\n",
       "      <td>1</td>\n",
       "      <td>0</td>\n",
       "      <td>0</td>\n",
       "      <td>0</td>\n",
       "      <td>1</td>\n",
       "      <td>0</td>\n",
       "      <td>0</td>\n",
       "    </tr>\n",
       "  </tbody>\n",
       "</table>\n",
       "<p>1 rows × 1693 columns</p>\n",
       "</div>"
      ],
      "text/plain": [
       "                        Model_Info  \\\n",
       "0   name0 55s66s66s778xxsxsmax etc   \n",
       "\n",
       "                              Additional_Description  Locality  Brand_0  \\\n",
       "0   good condition 11months old single scratch we...       570        0   \n",
       "\n",
       "   Brand_1  Brand_2  Brand_3  City_0  City_1  City_2  ...  Model_Info_1647  \\\n",
       "0        1        0        0       0       0       0  ...              0.0   \n",
       "\n",
       "   Model_Info_1648  model_is_phone  desc_is_phone  model_is_new  desc_is_new  \\\n",
       "0              0.0               0              1             0            0   \n",
       "\n",
       "   model_is_good  desc_is_good  model_gb  desc_gb  \n",
       "0              0             1         0        0  \n",
       "\n",
       "[1 rows x 1693 columns]"
      ]
     },
     "execution_count": 50,
     "metadata": {},
     "output_type": "execute_result"
    }
   ],
   "source": [
    "#drop price column since its the value we are looking\n",
    "test.drop('Price' , inplace =True , axis = 1)\n",
    "test.head(1)"
   ]
  },
  {
   "cell_type": "code",
   "execution_count": 51,
   "metadata": {},
   "outputs": [],
   "source": [
    "#lets get the training fuatures..\n",
    "#we will drop City 'Model_Info', 'Additional_Description',  'Brand',  'State'"
   ]
  },
  {
   "cell_type": "code",
   "execution_count": 52,
   "metadata": {},
   "outputs": [],
   "source": [
    "label = train.Price"
   ]
  },
  {
   "cell_type": "code",
   "execution_count": 53,
   "metadata": {},
   "outputs": [],
   "source": [
    "train.drop(['Model_Info', 'Additional_Description', 'Price'] , axis = 1 , inplace = True)"
   ]
  },
  {
   "cell_type": "code",
   "execution_count": 54,
   "metadata": {},
   "outputs": [],
   "source": [
    "test.drop(['Model_Info', 'Additional_Description'] , axis = 1 , inplace = True)"
   ]
  },
  {
   "cell_type": "code",
   "execution_count": null,
   "metadata": {},
   "outputs": [],
   "source": []
  },
  {
   "cell_type": "code",
   "execution_count": 55,
   "metadata": {},
   "outputs": [],
   "source": [
    "from xgboost import XGBRegressor\n",
    "from sklearn.model_selection import KFold\n",
    "import time\n",
    "from sklearn.metrics import mean_squared_error as mse"
   ]
  },
  {
   "cell_type": "code",
   "execution_count": 56,
   "metadata": {},
   "outputs": [],
   "source": [
    "def rmse(y_true, y_pred):\n",
    "    return mse(y_true, y_pred) ** 0.5"
   ]
  },
  {
   "cell_type": "code",
   "execution_count": null,
   "metadata": {},
   "outputs": [],
   "source": []
  },
  {
   "cell_type": "markdown",
   "metadata": {},
   "source": [
    "## Modellling part .\n",
    " - I will use KFold for cross Validation.\n",
    " - I will apply three algoriths i.e\n",
    "             -XGBRegressor\n",
    "             -LGBMRegressor\n",
    "             -CatBoostRegressor\n",
    " - I will then check the models which perfoms better by comparison\n",
    " - I wil do logs for the label and as antilog for the preds in order for proper working.standardize the labels"
   ]
  },
  {
   "cell_type": "code",
   "execution_count": null,
   "metadata": {},
   "outputs": [],
   "source": []
  },
  {
   "cell_type": "code",
   "execution_count": 57,
   "metadata": {},
   "outputs": [],
   "source": [
    "from sklearn.model_selection import cross_val_score"
   ]
  },
  {
   "cell_type": "code",
   "execution_count": 58,
   "metadata": {},
   "outputs": [],
   "source": [
    "\n",
    "# !pip install lightgbm\n",
    "import sys\n",
    "sys.path.append('/usr/local/lib/python3.7/dist-packages')\n",
    "from lightgbm import LGBMRegressor"
   ]
  },
  {
   "cell_type": "code",
   "execution_count": 59,
   "metadata": {},
   "outputs": [],
   "source": [
    "kfolds  = KFold(n_splits=10,shuffle = False, random_state=101)\n",
    "# lgb = LGBMRegressor()\n",
    "# scores = cross_val_score(lgb , train , label ,cv = kfolds , scoring = 'neg_mean_squared_error')"
   ]
  },
  {
   "cell_type": "code",
   "execution_count": null,
   "metadata": {},
   "outputs": [],
   "source": []
  },
  {
   "cell_type": "code",
   "execution_count": 69,
   "metadata": {},
   "outputs": [
    {
     "name": "stdout",
     "output_type": "stream",
     "text": [
      "Training until validation scores don't improve for 200 rounds\n",
      "[100]\tvalid_0's rmse: 0.436155\tvalid_0's l2: 0.190231\n",
      "[200]\tvalid_0's rmse: 0.430737\tvalid_0's l2: 0.185534\n",
      "[300]\tvalid_0's rmse: 0.432086\tvalid_0's l2: 0.186698\n",
      "Early stopping, best iteration is:\n",
      "[192]\tvalid_0's rmse: 0.430281\tvalid_0's l2: 0.185141\n",
      "RMSE FOR Train this FOLD IS >>   0.39552641447909676\n",
      "\n",
      "RMSE FOR THSI FOLD IS >>   0.430280682955791\n",
      "\n",
      "Takes    0 minutes 8 seconds  to complete\n",
      "\n",
      "Training until validation scores don't improve for 200 rounds\n",
      "[100]\tvalid_0's rmse: 0.482534\tvalid_0's l2: 0.232839\n",
      "[200]\tvalid_0's rmse: 0.47491\tvalid_0's l2: 0.22554\n",
      "[300]\tvalid_0's rmse: 0.470756\tvalid_0's l2: 0.221612\n",
      "[400]\tvalid_0's rmse: 0.469735\tvalid_0's l2: 0.220651\n",
      "[500]\tvalid_0's rmse: 0.467304\tvalid_0's l2: 0.218373\n",
      "[600]\tvalid_0's rmse: 0.466912\tvalid_0's l2: 0.218007\n",
      "[700]\tvalid_0's rmse: 0.467123\tvalid_0's l2: 0.218204\n",
      "[800]\tvalid_0's rmse: 0.467189\tvalid_0's l2: 0.218266\n",
      "[900]\tvalid_0's rmse: 0.467712\tvalid_0's l2: 0.218754\n",
      "Early stopping, best iteration is:\n",
      "[737]\tvalid_0's rmse: 0.466412\tvalid_0's l2: 0.21754\n",
      "RMSE FOR Train this FOLD IS >>   0.3205460470507451\n",
      "\n",
      "RMSE FOR THSI FOLD IS >>   0.4664115937464235\n",
      "\n",
      "Takes    0 minutes 7 seconds  to complete\n",
      "\n",
      "Training until validation scores don't improve for 200 rounds\n",
      "[100]\tvalid_0's rmse: 0.478068\tvalid_0's l2: 0.228549\n",
      "[200]\tvalid_0's rmse: 0.482679\tvalid_0's l2: 0.232979\n",
      "Early stopping, best iteration is:\n",
      "[78]\tvalid_0's rmse: 0.477501\tvalid_0's l2: 0.228007\n",
      "RMSE FOR Train this FOLD IS >>   0.43401203859343945\n",
      "\n",
      "RMSE FOR THSI FOLD IS >>   0.47750064806571074\n",
      "\n",
      "Takes    0 minutes 4 seconds  to complete\n",
      "\n",
      "Training until validation scores don't improve for 200 rounds\n",
      "[100]\tvalid_0's rmse: 0.46985\tvalid_0's l2: 0.220759\n",
      "[200]\tvalid_0's rmse: 0.469156\tvalid_0's l2: 0.220107\n",
      "[300]\tvalid_0's rmse: 0.470123\tvalid_0's l2: 0.221016\n",
      "Early stopping, best iteration is:\n",
      "[169]\tvalid_0's rmse: 0.467886\tvalid_0's l2: 0.218918\n",
      "RMSE FOR Train this FOLD IS >>   0.4021450357785425\n",
      "\n",
      "RMSE FOR THSI FOLD IS >>   0.46788646978224474\n",
      "\n",
      "Takes    0 minutes 4 seconds  to complete\n",
      "\n",
      "Training until validation scores don't improve for 200 rounds\n",
      "[100]\tvalid_0's rmse: 0.375109\tvalid_0's l2: 0.140707\n",
      "[200]\tvalid_0's rmse: 0.362986\tvalid_0's l2: 0.131759\n",
      "[300]\tvalid_0's rmse: 0.36437\tvalid_0's l2: 0.132765\n",
      "[400]\tvalid_0's rmse: 0.36475\tvalid_0's l2: 0.133043\n",
      "Early stopping, best iteration is:\n",
      "[219]\tvalid_0's rmse: 0.362219\tvalid_0's l2: 0.131203\n",
      "RMSE FOR Train this FOLD IS >>   0.39516625261793664\n",
      "\n",
      "RMSE FOR THSI FOLD IS >>   0.36221901057425926\n",
      "\n",
      "Takes    0 minutes 4 seconds  to complete\n",
      "\n",
      "Training until validation scores don't improve for 200 rounds\n",
      "[100]\tvalid_0's rmse: 0.439325\tvalid_0's l2: 0.193006\n",
      "[200]\tvalid_0's rmse: 0.43893\tvalid_0's l2: 0.19266\n",
      "[300]\tvalid_0's rmse: 0.440229\tvalid_0's l2: 0.193801\n",
      "Early stopping, best iteration is:\n",
      "[125]\tvalid_0's rmse: 0.438182\tvalid_0's l2: 0.192004\n",
      "RMSE FOR Train this FOLD IS >>   0.41491110920851454\n",
      "\n",
      "RMSE FOR THSI FOLD IS >>   0.4381823094257335\n",
      "\n",
      "Takes    0 minutes 3 seconds  to complete\n",
      "\n",
      "Training until validation scores don't improve for 200 rounds\n",
      "[100]\tvalid_0's rmse: 0.455511\tvalid_0's l2: 0.20749\n",
      "[200]\tvalid_0's rmse: 0.442949\tvalid_0's l2: 0.196204\n",
      "[300]\tvalid_0's rmse: 0.440681\tvalid_0's l2: 0.194199\n",
      "[400]\tvalid_0's rmse: 0.442075\tvalid_0's l2: 0.19543\n",
      "[500]\tvalid_0's rmse: 0.444287\tvalid_0's l2: 0.197391\n",
      "Early stopping, best iteration is:\n",
      "[352]\tvalid_0's rmse: 0.439534\tvalid_0's l2: 0.19319\n",
      "RMSE FOR Train this FOLD IS >>   0.3622589685036266\n",
      "\n",
      "RMSE FOR THSI FOLD IS >>   0.43953392848780765\n",
      "\n",
      "Takes    0 minutes 4 seconds  to complete\n",
      "\n",
      "Training until validation scores don't improve for 200 rounds\n",
      "[100]\tvalid_0's rmse: 0.583742\tvalid_0's l2: 0.340755\n",
      "[200]\tvalid_0's rmse: 0.579573\tvalid_0's l2: 0.335905\n",
      "[300]\tvalid_0's rmse: 0.577802\tvalid_0's l2: 0.333855\n",
      "[400]\tvalid_0's rmse: 0.573645\tvalid_0's l2: 0.329069\n",
      "[500]\tvalid_0's rmse: 0.57135\tvalid_0's l2: 0.326441\n",
      "[600]\tvalid_0's rmse: 0.570684\tvalid_0's l2: 0.32568\n",
      "[700]\tvalid_0's rmse: 0.570418\tvalid_0's l2: 0.325376\n",
      "[800]\tvalid_0's rmse: 0.569446\tvalid_0's l2: 0.324269\n",
      "[900]\tvalid_0's rmse: 0.569971\tvalid_0's l2: 0.324867\n",
      "[1000]\tvalid_0's rmse: 0.569112\tvalid_0's l2: 0.323889\n",
      "[1100]\tvalid_0's rmse: 0.568865\tvalid_0's l2: 0.323608\n",
      "[1200]\tvalid_0's rmse: 0.570039\tvalid_0's l2: 0.324945\n",
      "Early stopping, best iteration is:\n",
      "[1086]\tvalid_0's rmse: 0.568629\tvalid_0's l2: 0.323339\n",
      "RMSE FOR Train this FOLD IS >>   0.278073978013422\n",
      "\n",
      "RMSE FOR THSI FOLD IS >>   0.5686294082070426\n",
      "\n",
      "Takes    0 minutes 7 seconds  to complete\n",
      "\n",
      "Training until validation scores don't improve for 200 rounds\n",
      "[100]\tvalid_0's rmse: 0.467089\tvalid_0's l2: 0.218173\n",
      "[200]\tvalid_0's rmse: 0.466867\tvalid_0's l2: 0.217965\n",
      "[300]\tvalid_0's rmse: 0.471387\tvalid_0's l2: 0.222206\n",
      "Early stopping, best iteration is:\n",
      "[164]\tvalid_0's rmse: 0.465456\tvalid_0's l2: 0.216649\n",
      "RMSE FOR Train this FOLD IS >>   0.4001381524158831\n",
      "\n",
      "RMSE FOR THSI FOLD IS >>   0.4654555724888451\n",
      "\n",
      "Takes    0 minutes 3 seconds  to complete\n",
      "\n",
      "Training until validation scores don't improve for 200 rounds\n",
      "[100]\tvalid_0's rmse: 0.505161\tvalid_0's l2: 0.255188\n",
      "[200]\tvalid_0's rmse: 0.502412\tvalid_0's l2: 0.252418\n",
      "[300]\tvalid_0's rmse: 0.502569\tvalid_0's l2: 0.252575\n",
      "Early stopping, best iteration is:\n",
      "[173]\tvalid_0's rmse: 0.500942\tvalid_0's l2: 0.250943\n",
      "RMSE FOR Train this FOLD IS >>   0.38987290368083116\n",
      "\n",
      "RMSE FOR THSI FOLD IS >>   0.5009417477035241\n",
      "\n",
      "Takes    0 minutes 4 seconds  to complete\n",
      "\n",
      "\n",
      "\n",
      "\n",
      "Training time is 0 minutes 53 seconds \n",
      "Avearge Train Score is 0.3792650900342038\n",
      "\n",
      "Average Test Score is  0.46170413714373815\n",
      "\n"
     ]
    }
   ],
   "source": [
    "import time\n",
    "begin_time =time.time()\n",
    "#lists to keep our scores\n",
    "train_score = []\n",
    "test_score = []\n",
    "\n",
    "#iterate through the kfolds while training and predicting\n",
    "for x_train , x_test in kfolds.split(train):\n",
    "    fold_begin_time = time.time()\n",
    "    X_train , X_test = train.iloc[x_train] , train.iloc[x_test]\n",
    "    y_train , y_test = label.iloc[x_train] , label.iloc[x_test]\n",
    "    \n",
    "    \n",
    "#     initialize the classifier\n",
    "    lgb = LGBMRegressor(n_estimators=1500, learning_rate=0.05, max_depth=7)\n",
    "    \n",
    "#     fit\n",
    "    lgb.fit(X_train , np.log(y_train) , eval_set=[(X_test , np.log(y_test))] , verbose = 100 , early_stopping_rounds = 200 , eval_metric = 'rmse')\n",
    "    \n",
    "    #test using the test set.\n",
    "    test_pred = np.exp(lgb.predict(X_test))\n",
    "    train_preds = np.exp(lgb.predict(X_train))\n",
    "#     append the results\n",
    "    train_score.append(rmse(np.log(y_train) , np.log(train_preds)))\n",
    "    test_score.append(rmse(np.log(y_test) , np.log(test_pred)))\n",
    "#     prind the scores\n",
    "    print(f'RMSE FOR Train this FOLD IS >>   {rmse(np.log(y_train) , np.log(train_preds))}\\n')\n",
    "    print(f'RMSE FOR THSI FOLD IS >>   {rmse(np.log(y_test) , np.log(test_pred))}\\n')\n",
    "    \n",
    "    fold_end_time = time.time()\n",
    "    fold_time =int(fold_end_time - fold_begin_time)\n",
    "    print(f\"Takes    {(fold_time)//60} minutes {(fold_time)%60} seconds  to complete\\n\")\n",
    "    \n",
    "print(\"\\n\\n\")\n",
    "train_time = int(time.time()  - begin_time)\n",
    "print(f\"Training time is {(train_time)//60} minutes {(train_time)%60} seconds \")\n",
    "\n",
    "\n",
    "# check final score\n",
    "print(f\"Avearge Train Score is {np.mean(train_score)}\\n\")\n",
    "print(f\"Average Test Score is  {np.mean(test_score)}\\n\")"
   ]
  },
  {
   "cell_type": "code",
   "execution_count": 60,
   "metadata": {},
   "outputs": [
    {
     "name": "stdout",
     "output_type": "stream",
     "text": [
      "[0]\tvalidation_0-rmse:8.91002\n",
      "Will train until validation_0-rmse hasn't improved in 200 rounds.\n",
      "[100]\tvalidation_0-rmse:0.43646\n",
      "[199]\tvalidation_0-rmse:0.43171\n",
      "RMSE FOR Train this FOLD IS >>   0.3214210959911206\n",
      "\n",
      "RMSE FOR THSI FOLD IS >>   0.4315382083197018\n",
      "\n",
      "Takes    0 minutes 43 seconds  to complete\n",
      "\n",
      "[0]\tvalidation_0-rmse:8.85529\n",
      "Will train until validation_0-rmse hasn't improved in 200 rounds.\n",
      "[100]\tvalidation_0-rmse:0.47871\n",
      "[199]\tvalidation_0-rmse:0.46982\n",
      "RMSE FOR Train this FOLD IS >>   0.3193721849182684\n",
      "\n",
      "RMSE FOR THSI FOLD IS >>   0.4698216758743178\n",
      "\n",
      "Takes    0 minutes 41 seconds  to complete\n",
      "\n",
      "[0]\tvalidation_0-rmse:8.85656\n",
      "Will train until validation_0-rmse hasn't improved in 200 rounds.\n",
      "[100]\tvalidation_0-rmse:0.46391\n",
      "[199]\tvalidation_0-rmse:0.45161\n",
      "RMSE FOR Train this FOLD IS >>   0.32514058200058166\n",
      "\n",
      "RMSE FOR THSI FOLD IS >>   0.4516130057600638\n",
      "\n",
      "Takes    0 minutes 41 seconds  to complete\n",
      "\n",
      "[0]\tvalidation_0-rmse:8.89240\n",
      "Will train until validation_0-rmse hasn't improved in 200 rounds.\n",
      "[100]\tvalidation_0-rmse:0.45055\n",
      "[199]\tvalidation_0-rmse:0.43581\n",
      "RMSE FOR Train this FOLD IS >>   0.3219728083528163\n",
      "\n",
      "RMSE FOR THSI FOLD IS >>   0.43581095494176697\n",
      "\n",
      "Takes    0 minutes 41 seconds  to complete\n",
      "\n",
      "[0]\tvalidation_0-rmse:8.89515\n",
      "Will train until validation_0-rmse hasn't improved in 200 rounds.\n",
      "[100]\tvalidation_0-rmse:0.37278\n",
      "[199]\tvalidation_0-rmse:0.34976\n",
      "RMSE FOR Train this FOLD IS >>   0.32943452913662247\n",
      "\n",
      "RMSE FOR THSI FOLD IS >>   0.34975075415202994\n",
      "\n",
      "Takes    0 minutes 42 seconds  to complete\n",
      "\n",
      "[0]\tvalidation_0-rmse:8.94632\n",
      "Will train until validation_0-rmse hasn't improved in 200 rounds.\n",
      "[100]\tvalidation_0-rmse:0.43694\n",
      "[199]\tvalidation_0-rmse:0.43164\n",
      "RMSE FOR Train this FOLD IS >>   0.3531409238207005\n",
      "\n",
      "RMSE FOR THSI FOLD IS >>   0.43066093518591125\n",
      "\n",
      "Takes    0 minutes 41 seconds  to complete\n",
      "\n",
      "[0]\tvalidation_0-rmse:8.98918\n",
      "Will train until validation_0-rmse hasn't improved in 200 rounds.\n",
      "[100]\tvalidation_0-rmse:0.43766\n",
      "[199]\tvalidation_0-rmse:0.40373\n",
      "RMSE FOR Train this FOLD IS >>   0.32835906949350535\n",
      "\n",
      "RMSE FOR THSI FOLD IS >>   0.40338750854623867\n",
      "\n",
      "Takes    0 minutes 41 seconds  to complete\n",
      "\n",
      "[0]\tvalidation_0-rmse:8.95127\n",
      "Will train until validation_0-rmse hasn't improved in 200 rounds.\n",
      "[100]\tvalidation_0-rmse:0.56145\n",
      "[199]\tvalidation_0-rmse:0.54438\n",
      "RMSE FOR Train this FOLD IS >>   0.3151814131823356\n",
      "\n",
      "RMSE FOR THSI FOLD IS >>   0.5443805190850736\n",
      "\n",
      "Takes    0 minutes 41 seconds  to complete\n",
      "\n",
      "[0]\tvalidation_0-rmse:8.91586\n",
      "Will train until validation_0-rmse hasn't improved in 200 rounds.\n",
      "[100]\tvalidation_0-rmse:0.45999\n",
      "[199]\tvalidation_0-rmse:0.43782\n",
      "RMSE FOR Train this FOLD IS >>   0.3256283301844718\n",
      "\n",
      "RMSE FOR THSI FOLD IS >>   0.43771611322338133\n",
      "\n",
      "Takes    0 minutes 41 seconds  to complete\n",
      "\n",
      "[0]\tvalidation_0-rmse:8.81231\n",
      "Will train until validation_0-rmse hasn't improved in 200 rounds.\n",
      "[100]\tvalidation_0-rmse:0.48549\n",
      "[199]\tvalidation_0-rmse:0.46815\n",
      "RMSE FOR Train this FOLD IS >>   0.3243290787754952\n",
      "\n",
      "RMSE FOR THSI FOLD IS >>   0.46813887848698005\n",
      "\n",
      "Takes    0 minutes 43 seconds  to complete\n",
      "\n",
      "\n",
      "\n",
      "\n",
      "Training time is 7 minutes 1 seconds \n",
      "Avearge Train Score is 0.32639800158559173\n",
      "\n",
      "Average Test Score is  0.4422818553575465\n",
      "\n"
     ]
    }
   ],
   "source": [
    "from xgboost import XGBRegressor\n",
    "import time\n",
    "begin_time =time.time()\n",
    "train_score = []\n",
    "test_score = []\n",
    "for x_train , x_test in kfolds.split(train):\n",
    "    fold_begin_time = time.time()\n",
    "    X_train , X_test = train.iloc[x_train] , train.iloc[x_test]\n",
    "    y_train , y_test = label.iloc[x_train] , label.iloc[x_test]\n",
    "    \n",
    "    \n",
    "#     initialize the classifier\n",
    "    xgb = XGBRegressor(n_estimators=200, learning_rate=0.05, max_depth=6)\n",
    "    \n",
    "#     fit\n",
    "    xgb.fit(X_train , np.log(y_train) , eval_set=[(X_test , np.log(y_test))] , verbose = 100 , early_stopping_rounds = 200 , eval_metric = 'rmse')\n",
    "    \n",
    "    #test using the test set.\n",
    "    test_pred_xgb = np.exp(xgb.predict(X_test))\n",
    "    train_preds = np.exp(xgb.predict(X_train))\n",
    "    train_score.append(rmse(np.log(y_train) , np.log(train_preds)))\n",
    "    test_score.append(rmse(np.log(y_test) , np.log(test_pred_xgb)))\n",
    "    print(f'RMSE FOR Train this FOLD IS >>   {rmse(np.log(y_train) , np.log(train_preds))}\\n')\n",
    "    print(f'RMSE FOR THSI FOLD IS >>   {rmse(np.log(y_test) , np.log(test_pred_xgb))}\\n')\n",
    "    fold_end_time = time.time()\n",
    "    fold_time =int(fold_end_time - fold_begin_time)\n",
    "    print(f\"Takes    {(fold_time)//60} minutes {(fold_time)%60} seconds  to complete\\n\")\n",
    "    \n",
    "print(\"\\n\\n\")\n",
    "train_time = int(time.time()  - begin_time)\n",
    "print(f\"Training time is {(train_time)//60} minutes {(train_time)%60} seconds \")\n",
    "\n",
    "\n",
    "print(f\"Avearge Train Score is {np.mean(train_score)}\\n\")\n",
    "print(f\"Average Test Score is  {np.mean(test_score)}\\n\")"
   ]
  },
  {
   "cell_type": "code",
   "execution_count": null,
   "metadata": {},
   "outputs": [],
   "source": []
  },
  {
   "cell_type": "code",
   "execution_count": 61,
   "metadata": {},
   "outputs": [
    {
     "name": "stdout",
     "output_type": "stream",
     "text": [
      "0:\tlearn: 0.8395030\ttest: 0.8025907\tbest: 0.8025907 (0)\ttotal: 446ms\tremaining: 3m 42s\n",
      "100:\tlearn: 0.6914212\ttest: 0.6637313\tbest: 0.6637313 (100)\ttotal: 32.5s\tremaining: 2m 8s\n",
      "200:\tlearn: 0.6036338\ttest: 0.5818032\tbest: 0.5818032 (200)\ttotal: 1m 5s\tremaining: 1m 37s\n",
      "300:\tlearn: 0.5492562\ttest: 0.5325072\tbest: 0.5325072 (300)\ttotal: 1m 37s\tremaining: 1m 4s\n",
      "400:\tlearn: 0.5164511\ttest: 0.5047146\tbest: 0.5047146 (400)\ttotal: 2m 10s\tremaining: 32.2s\n",
      "499:\tlearn: 0.4982999\ttest: 0.4917985\tbest: 0.4917985 (499)\ttotal: 2m 42s\tremaining: 0us\n",
      "\n",
      "bestTest = 0.4917985278\n",
      "bestIteration = 499\n",
      "\n",
      "RMSE FOR Train this FOLD IS >>   0.49829992908665977\n",
      "\n",
      "RMSE FOR THSI FOLD IS >>   0.49179854699477943\n",
      "\n",
      "Takes    2 minutes 44 seconds  to complete\n",
      "\n",
      "0:\tlearn: 0.8343652\ttest: 0.8486368\tbest: 0.8486368 (0)\ttotal: 10.8s\tremaining: 1h 29m 26s\n",
      "100:\tlearn: 0.6854104\ttest: 0.7138324\tbest: 0.7138324 (100)\ttotal: 43.8s\tremaining: 2m 53s\n",
      "200:\tlearn: 0.5981982\ttest: 0.6337785\tbest: 0.6337785 (200)\ttotal: 1m 16s\tremaining: 1m 54s\n",
      "300:\tlearn: 0.5447041\ttest: 0.5818647\tbest: 0.5818647 (300)\ttotal: 1m 49s\tremaining: 1m 12s\n",
      "400:\tlearn: 0.5105295\ttest: 0.5475360\tbest: 0.5475360 (400)\ttotal: 2m 21s\tremaining: 35s\n",
      "499:\tlearn: 0.4934055\ttest: 0.5330334\tbest: 0.5330334 (499)\ttotal: 2m 54s\tremaining: 0us\n",
      "\n",
      "bestTest = 0.5330333918\n",
      "bestIteration = 499\n",
      "\n",
      "RMSE FOR Train this FOLD IS >>   0.49340546346294517\n",
      "\n",
      "RMSE FOR THSI FOLD IS >>   0.5330333995912948\n",
      "\n",
      "Takes    2 minutes 56 seconds  to complete\n",
      "\n",
      "0:\tlearn: 0.8357867\ttest: 0.8351690\tbest: 0.8351690 (0)\ttotal: 4.5s\tremaining: 37m 26s\n",
      "100:\tlearn: 0.6899789\ttest: 0.7034819\tbest: 0.7034819 (100)\ttotal: 38.3s\tremaining: 2m 31s\n",
      "200:\tlearn: 0.6042442\ttest: 0.6277546\tbest: 0.6277546 (200)\ttotal: 1m 9s\tremaining: 1m 43s\n",
      "300:\tlearn: 0.5513762\ttest: 0.5803310\tbest: 0.5803310 (300)\ttotal: 1m 42s\tremaining: 1m 7s\n",
      "400:\tlearn: 0.5179306\ttest: 0.5513882\tbest: 0.5513882 (400)\ttotal: 2m 14s\tremaining: 33.1s\n",
      "499:\tlearn: 0.4998305\ttest: 0.5371649\tbest: 0.5371649 (499)\ttotal: 2m 46s\tremaining: 0us\n",
      "\n",
      "bestTest = 0.5371649258\n",
      "bestIteration = 499\n",
      "\n",
      "RMSE FOR Train this FOLD IS >>   0.49983052698948827\n",
      "\n",
      "RMSE FOR THSI FOLD IS >>   0.5371649385941129\n",
      "\n",
      "Takes    2 minutes 52 seconds  to complete\n",
      "\n",
      "0:\tlearn: 0.8344389\ttest: 0.8491491\tbest: 0.8491491 (0)\ttotal: 7.94s\tremaining: 1h 6m 2s\n",
      "100:\tlearn: 0.6903359\ttest: 0.6955540\tbest: 0.6955540 (100)\ttotal: 40.5s\tremaining: 2m 40s\n",
      "200:\tlearn: 0.6038993\ttest: 0.6060960\tbest: 0.6060960 (200)\ttotal: 1m 12s\tremaining: 1m 47s\n",
      "300:\tlearn: 0.5495899\ttest: 0.5537568\tbest: 0.5537568 (300)\ttotal: 1m 45s\tremaining: 1m 9s\n",
      "400:\tlearn: 0.5152518\ttest: 0.5238310\tbest: 0.5238310 (400)\ttotal: 2m 20s\tremaining: 34.6s\n",
      "499:\tlearn: 0.4953362\ttest: 0.5086646\tbest: 0.5086646 (499)\ttotal: 2m 54s\tremaining: 0us\n",
      "\n",
      "bestTest = 0.5086645517\n",
      "bestIteration = 499\n",
      "\n",
      "RMSE FOR Train this FOLD IS >>   0.4953361879655285\n",
      "\n",
      "RMSE FOR THSI FOLD IS >>   0.5086645662794038\n",
      "\n",
      "Takes    3 minutes 0 seconds  to complete\n",
      "\n",
      "0:\tlearn: 0.8416678\ttest: 0.7803893\tbest: 0.7803893 (0)\ttotal: 6.53s\tremaining: 54m 17s\n",
      "100:\tlearn: 0.6945893\ttest: 0.6306602\tbest: 0.6306602 (100)\ttotal: 40.6s\tremaining: 2m 40s\n",
      "200:\tlearn: 0.6077979\ttest: 0.5417043\tbest: 0.5417043 (200)\ttotal: 1m 13s\tremaining: 1m 48s\n",
      "300:\tlearn: 0.5549441\ttest: 0.4853852\tbest: 0.4853852 (300)\ttotal: 1m 45s\tremaining: 1m 9s\n",
      "400:\tlearn: 0.5204178\ttest: 0.4485681\tbest: 0.4485681 (400)\ttotal: 2m 17s\tremaining: 34s\n",
      "499:\tlearn: 0.5013779\ttest: 0.4305464\tbest: 0.4305464 (499)\ttotal: 2m 49s\tremaining: 0us\n",
      "\n",
      "bestTest = 0.4305463976\n",
      "bestIteration = 499\n",
      "\n",
      "RMSE FOR Train this FOLD IS >>   0.5013778923382776\n",
      "\n",
      "RMSE FOR THSI FOLD IS >>   0.4305463940241113\n",
      "\n",
      "Takes    3 minutes 20 seconds  to complete\n",
      "\n",
      "0:\tlearn: 0.8405629\ttest: 0.7936965\tbest: 0.7936965 (0)\ttotal: 15s\tremaining: 2h 4m 23s\n",
      "100:\tlearn: 0.6941830\ttest: 0.6434638\tbest: 0.6434638 (100)\ttotal: 47s\tremaining: 3m 5s\n",
      "200:\tlearn: 0.6088172\ttest: 0.5592961\tbest: 0.5592961 (200)\ttotal: 1m 19s\tremaining: 1m 58s\n",
      "300:\tlearn: 0.5543688\ttest: 0.5090927\tbest: 0.5090927 (300)\ttotal: 1m 53s\tremaining: 1m 15s\n",
      "400:\tlearn: 0.5191052\ttest: 0.4800819\tbest: 0.4800819 (400)\ttotal: 2m 26s\tremaining: 36.1s\n",
      "499:\tlearn: 0.4989473\ttest: 0.4657232\tbest: 0.4657232 (499)\ttotal: 2m 57s\tremaining: 0us\n",
      "\n",
      "bestTest = 0.4657231551\n",
      "bestIteration = 499\n",
      "\n",
      "RMSE FOR Train this FOLD IS >>   0.4989472728960015\n",
      "\n",
      "RMSE FOR THSI FOLD IS >>   0.46572315376587425\n",
      "\n",
      "Takes    3 minutes 5 seconds  to complete\n",
      "\n",
      "0:\tlearn: 0.8384354\ttest: 0.8146671\tbest: 0.8146671 (0)\ttotal: 12.8s\tremaining: 1h 46m 2s\n",
      "100:\tlearn: 0.6921723\ttest: 0.6765034\tbest: 0.6765034 (100)\ttotal: 43.8s\tremaining: 2m 53s\n",
      "200:\tlearn: 0.6040325\ttest: 0.5952319\tbest: 0.5952319 (200)\ttotal: 1m 15s\tremaining: 1m 52s\n",
      "300:\tlearn: 0.5490006\ttest: 0.5462605\tbest: 0.5462605 (300)\ttotal: 1m 45s\tremaining: 1m 9s\n",
      "400:\tlearn: 0.5159429\ttest: 0.5175608\tbest: 0.5175608 (400)\ttotal: 2m 17s\tremaining: 33.9s\n",
      "499:\tlearn: 0.4988757\ttest: 0.5039724\tbest: 0.5039724 (499)\ttotal: 2m 48s\tremaining: 0us\n",
      "\n",
      "bestTest = 0.5039723836\n",
      "bestIteration = 499\n",
      "\n",
      "RMSE FOR Train this FOLD IS >>   0.49887566964483304\n",
      "\n",
      "RMSE FOR THSI FOLD IS >>   0.5039723952584836\n",
      "\n",
      "Takes    2 minutes 58 seconds  to complete\n",
      "\n",
      "0:\tlearn: 0.8318293\ttest: 0.8717863\tbest: 0.8717863 (0)\ttotal: 8.53s\tremaining: 1h 10m 56s\n",
      "100:\tlearn: 0.6827706\ttest: 0.7531621\tbest: 0.7531621 (100)\ttotal: 1m 15s\tremaining: 4m 56s\n",
      "200:\tlearn: 0.5930630\ttest: 0.6855847\tbest: 0.6855847 (200)\ttotal: 1m 51s\tremaining: 2m 46s\n",
      "300:\tlearn: 0.5368295\ttest: 0.6430060\tbest: 0.6430060 (300)\ttotal: 2m 25s\tremaining: 1m 36s\n",
      "400:\tlearn: 0.5011644\ttest: 0.6157938\tbest: 0.6157938 (400)\ttotal: 3m\tremaining: 44.7s\n",
      "499:\tlearn: 0.4828593\ttest: 0.6034137\tbest: 0.6034137 (499)\ttotal: 3m 32s\tremaining: 0us\n",
      "\n",
      "bestTest = 0.6034136775\n",
      "bestIteration = 499\n",
      "\n",
      "RMSE FOR Train this FOLD IS >>   0.48285931772206026\n",
      "\n",
      "RMSE FOR THSI FOLD IS >>   0.6034136960561131\n",
      "\n",
      "Takes    3 minutes 50 seconds  to complete\n",
      "\n",
      "0:\tlearn: 0.8346507\ttest: 0.8476538\tbest: 0.8476538 (0)\ttotal: 18.9s\tremaining: 2h 37m\n",
      "100:\tlearn: 0.6860989\ttest: 0.7057898\tbest: 0.7057898 (100)\ttotal: 52.2s\tremaining: 3m 26s\n",
      "200:\tlearn: 0.5995744\ttest: 0.6184785\tbest: 0.6184785 (200)\ttotal: 1m 27s\tremaining: 2m 9s\n",
      "300:\tlearn: 0.5472275\ttest: 0.5663334\tbest: 0.5663334 (300)\ttotal: 2m 1s\tremaining: 1m 20s\n",
      "400:\tlearn: 0.5136652\ttest: 0.5327254\tbest: 0.5327254 (400)\ttotal: 2m 37s\tremaining: 38.9s\n",
      "499:\tlearn: 0.4953937\ttest: 0.5161300\tbest: 0.5161300 (499)\ttotal: 3m 16s\tremaining: 0us\n",
      "\n",
      "bestTest = 0.5161299664\n",
      "bestIteration = 499\n",
      "\n",
      "RMSE FOR Train this FOLD IS >>   0.49539375570835503\n",
      "\n",
      "RMSE FOR THSI FOLD IS >>   0.5161299355243577\n",
      "\n",
      "Takes    3 minutes 18 seconds  to complete\n",
      "\n",
      "0:\tlearn: 0.8271877\ttest: 0.9114482\tbest: 0.9114482 (0)\ttotal: 360ms\tremaining: 2m 59s\n",
      "100:\tlearn: 0.6829496\ttest: 0.7463196\tbest: 0.7463196 (100)\ttotal: 36.5s\tremaining: 2m 24s\n",
      "200:\tlearn: 0.5958520\ttest: 0.6492413\tbest: 0.6492413 (200)\ttotal: 1m 11s\tremaining: 1m 45s\n",
      "300:\tlearn: 0.5416942\ttest: 0.5905875\tbest: 0.5905875 (300)\ttotal: 1m 45s\tremaining: 1m 9s\n",
      "400:\tlearn: 0.5091608\ttest: 0.5578529\tbest: 0.5578529 (400)\ttotal: 2m 18s\tremaining: 34.2s\n",
      "499:\tlearn: 0.4915059\ttest: 0.5423721\tbest: 0.5423721 (499)\ttotal: 2m 57s\tremaining: 0us\n",
      "\n",
      "bestTest = 0.5423720753\n",
      "bestIteration = 499\n",
      "\n",
      "RMSE FOR Train this FOLD IS >>   0.4915058735640469\n",
      "\n",
      "RMSE FOR THSI FOLD IS >>   0.5423720683318636\n",
      "\n",
      "Takes    2 minutes 59 seconds  to complete\n",
      "\n",
      "\n",
      "\n",
      "\n",
      "Training time is 31 minutes 6 seconds \n",
      "Avearge Train Score is 0.4955831889378196\n",
      "\n",
      "Average Test Score is  0.5132819094420394\n",
      "\n"
     ]
    }
   ],
   "source": [
    "#for catboost\n",
    "from catboost import CatBoostRegressor\n",
    "import time\n",
    "begin_time =time.time()\n",
    "train_score = []\n",
    "test_score = []\n",
    "for x_train , x_test in kfolds.split(train):\n",
    "    fold_begin_time = time.time()\n",
    "    X_train , X_test = train.iloc[x_train] , train.iloc[x_test]\n",
    "    y_train , y_test = label.iloc[x_train] , label.iloc[x_test]\n",
    "    \n",
    "    \n",
    "#     initialize the classifier\n",
    "    cat = CatBoostRegressor(n_estimators=500, learning_rate=0.005, max_depth=11)\n",
    "    \n",
    "#     fit\n",
    "    cat.fit(X_train , np.log(y_train) , eval_set=[(X_test ,np.log(y_test))] , verbose = 100 , early_stopping_rounds = 200 )\n",
    "    \n",
    "    #test using the test set.\n",
    "    test_pred_cat = np.exp(cat.predict(X_test))\n",
    "    train_preds = np.exp(cat.predict(X_train))\n",
    "    train_score.append(rmse(np.log(y_train) , np.log(train_preds)))\n",
    "    test_score.append(rmse(np.log(y_test) , np.log(test_pred_cat)))\n",
    "    print(f'RMSE FOR Train this FOLD IS >>   {rmse(np.log(y_train) , np.log(train_preds))}\\n')\n",
    "    print(f'RMSE FOR THSI FOLD IS >>   {rmse(np.log(y_test) , np.log(test_pred_cat))}\\n')\n",
    "    fold_end_time = time.time()\n",
    "    fold_time =int(fold_end_time - fold_begin_time)\n",
    "    print(f\"Takes    {(fold_time)//60} minutes {(fold_time)%60} seconds  to complete\\n\")\n",
    "    \n",
    "print(\"\\n\\n\")\n",
    "train_time = int(time.time()  - begin_time)\n",
    "print(f\"Training time is {(train_time)//60} minutes {(train_time)%60} seconds \")\n",
    "\n",
    "print(f\"Avearge Train Score is {np.mean(train_score)}\\n\")\n",
    "print(f\"Average Test Score is  {np.mean(test_score)}\\n\")"
   ]
  },
  {
   "cell_type": "code",
   "execution_count": null,
   "metadata": {},
   "outputs": [],
   "source": []
  },
  {
   "cell_type": "markdown",
   "metadata": {},
   "source": [
    "## For our prediction we will combine the three models .xgb , cat and lgb\n",
    "- xgb will take 0.6 contribution\n",
    "\n",
    "- lgb will take o.3 of contribution\n",
    "- cat will take 0.1 of the contrib\n",
    "\n",
    " - This is based on test i have perfomed.\n",
    " - The above combination seems to minimize the rmse"
   ]
  },
  {
   "cell_type": "code",
   "execution_count": 70,
   "metadata": {},
   "outputs": [],
   "source": [
    "#predictions using test set..\n",
    "#  NOTE ... The results are in log format\n",
    "cat_preds = cat.predict(test)\n",
    "xgb_preds = xgb.predict(test)\n",
    "lgb_preds = lgb.predict(test)\n",
    "\n",
    "# for checking perfomance.. predicts using train set\n",
    "cat_train_preds = cat.predict(train)\n",
    "xgb_train_preds = xgb.predict(train)\n",
    "lgb_train_preds = lgb.predict(train)"
   ]
  },
  {
   "cell_type": "code",
   "execution_count": 134,
   "metadata": {},
   "outputs": [],
   "source": [
    "# let now use the distribution above to predict final..\n",
    "# for test using training score first\n",
    "\n",
    "final_train_preds = xgb_train_preds*0.6+lgb_train_preds*0.3+0.1*cat_train_preds"
   ]
  },
  {
   "cell_type": "code",
   "execution_count": 135,
   "metadata": {},
   "outputs": [
    {
     "name": "stdout",
     "output_type": "stream",
     "text": [
      "Final Training score is rmse     0.3620192646428179\n"
     ]
    }
   ],
   "source": [
    "# checking training score rmse\n",
    "print(f\"Final Training score is rmse     {rmse(np.log(label) , final_train_preds)}\")"
   ]
  },
  {
   "cell_type": "markdown",
   "metadata": {},
   "source": [
    "### The model has Improved greatly.. from 0.40 plus...\n",
    " - This is the combination i will used for the final results"
   ]
  },
  {
   "cell_type": "code",
   "execution_count": 97,
   "metadata": {},
   "outputs": [],
   "source": [
    "# Thats our best model...we can create a submission file using it then\n",
    "final_test_sub = xgb_preds*0.6 + lgb_preds*0.3 + cat_preds*0.1\n",
    "\n",
    "# convert back to normal numbers\n",
    "sub_test = np.exp(final_test_sub)"
   ]
  },
  {
   "cell_type": "code",
   "execution_count": 100,
   "metadata": {},
   "outputs": [
    {
     "data": {
      "text/plain": [
       "997"
      ]
     },
     "execution_count": 100,
     "metadata": {},
     "output_type": "execute_result"
    }
   ],
   "source": [
    "len(sub_test)"
   ]
  },
  {
   "cell_type": "code",
   "execution_count": 101,
   "metadata": {},
   "outputs": [
    {
     "data": {
      "text/plain": [
       "997"
      ]
     },
     "execution_count": 101,
     "metadata": {},
     "output_type": "execute_result"
    }
   ],
   "source": [
    "sub.shape[0]"
   ]
  },
  {
   "cell_type": "code",
   "execution_count": 103,
   "metadata": {},
   "outputs": [],
   "source": [
    "sub[\"Price\"] = sub_test"
   ]
  },
  {
   "cell_type": "code",
   "execution_count": 105,
   "metadata": {},
   "outputs": [],
   "source": [
    "# save.\n",
    "sub.to_csv(\"final_sub.csv\" , index = False)"
   ]
  },
  {
   "cell_type": "code",
   "execution_count": 106,
   "metadata": {},
   "outputs": [],
   "source": [
    "x = pd.read_csv('final_sub.csv')"
   ]
  },
  {
   "cell_type": "code",
   "execution_count": 107,
   "metadata": {},
   "outputs": [
    {
     "data": {
      "text/html": [
       "<div>\n",
       "<style scoped>\n",
       "    .dataframe tbody tr th:only-of-type {\n",
       "        vertical-align: middle;\n",
       "    }\n",
       "\n",
       "    .dataframe tbody tr th {\n",
       "        vertical-align: top;\n",
       "    }\n",
       "\n",
       "    .dataframe thead th {\n",
       "        text-align: right;\n",
       "    }\n",
       "</style>\n",
       "<table border=\"1\" class=\"dataframe\">\n",
       "  <thead>\n",
       "    <tr style=\"text-align: right;\">\n",
       "      <th></th>\n",
       "      <th>Price</th>\n",
       "    </tr>\n",
       "  </thead>\n",
       "  <tbody>\n",
       "    <tr>\n",
       "      <td>0</td>\n",
       "      <td>14652.086943</td>\n",
       "    </tr>\n",
       "    <tr>\n",
       "      <td>1</td>\n",
       "      <td>8360.463049</td>\n",
       "    </tr>\n",
       "    <tr>\n",
       "      <td>2</td>\n",
       "      <td>14039.180301</td>\n",
       "    </tr>\n",
       "    <tr>\n",
       "      <td>3</td>\n",
       "      <td>43092.835285</td>\n",
       "    </tr>\n",
       "    <tr>\n",
       "      <td>4</td>\n",
       "      <td>7940.869190</td>\n",
       "    </tr>\n",
       "  </tbody>\n",
       "</table>\n",
       "</div>"
      ],
      "text/plain": [
       "          Price\n",
       "0  14652.086943\n",
       "1   8360.463049\n",
       "2  14039.180301\n",
       "3  43092.835285\n",
       "4   7940.869190"
      ]
     },
     "execution_count": 107,
     "metadata": {},
     "output_type": "execute_result"
    }
   ],
   "source": [
    "x.head()"
   ]
  },
  {
   "cell_type": "code",
   "execution_count": 63,
   "metadata": {},
   "outputs": [],
   "source": []
  },
  {
   "cell_type": "code",
   "execution_count": 65,
   "metadata": {},
   "outputs": [],
   "source": []
  },
  {
   "cell_type": "markdown",
   "metadata": {},
   "source": [
    " ## Gonna Create files containing the models for future usage.\n",
    "  - I will use joblib module and save the 3 models"
   ]
  },
  {
   "cell_type": "code",
   "execution_count": 115,
   "metadata": {},
   "outputs": [
    {
     "data": {
      "text/plain": [
       "['xgb_model.pkl']"
      ]
     },
     "execution_count": 115,
     "metadata": {},
     "output_type": "execute_result"
    }
   ],
   "source": [
    "# save the model for future usage..\n",
    "import joblib\n",
    "cat_name  = \"cat_model.pkl\"\n",
    "lgb_name  = \"lgb_model.pkl\"\n",
    "xgb_name  = \"xgb_model.pkl\"\n",
    "\n",
    "joblib.dump(cat , cat_name)\n",
    "joblib.dump(lgb , lgb_name)\n",
    "joblib.dump(xgb , xgb_name)\n"
   ]
  },
  {
   "cell_type": "code",
   "execution_count": 116,
   "metadata": {},
   "outputs": [],
   "source": [
    "# reusing the saved models ..\n",
    "cat_pkl = joblib.load(cat_name)"
   ]
  },
  {
   "cell_type": "code",
   "execution_count": 117,
   "metadata": {},
   "outputs": [
    {
     "data": {
      "text/plain": [
       "<catboost.core.CatBoostRegressor at 0x7fc99ebc7050>"
      ]
     },
     "execution_count": 117,
     "metadata": {},
     "output_type": "execute_result"
    }
   ],
   "source": [
    "cat_pkl"
   ]
  },
  {
   "cell_type": "code",
   "execution_count": null,
   "metadata": {},
   "outputs": [],
   "source": []
  },
  {
   "cell_type": "markdown",
   "metadata": {},
   "source": [
    "&copy; Stephen Kamau"
   ]
  },
  {
   "cell_type": "code",
   "execution_count": null,
   "metadata": {},
   "outputs": [],
   "source": []
  },
  {
   "cell_type": "code",
   "execution_count": null,
   "metadata": {},
   "outputs": [],
   "source": []
  },
  {
   "cell_type": "code",
   "execution_count": null,
   "metadata": {},
   "outputs": [],
   "source": []
  },
  {
   "cell_type": "code",
   "execution_count": null,
   "metadata": {},
   "outputs": [],
   "source": []
  },
  {
   "cell_type": "code",
   "execution_count": null,
   "metadata": {},
   "outputs": [],
   "source": []
  }
 ],
 "metadata": {
  "kernelspec": {
   "display_name": "Python 3",
   "language": "python",
   "name": "python3"
  },
  "language_info": {
   "codemirror_mode": {
    "name": "ipython",
    "version": 3
   },
   "file_extension": ".py",
   "mimetype": "text/x-python",
   "name": "python",
   "nbconvert_exporter": "python",
   "pygments_lexer": "ipython3",
   "version": "3.7.4"
  }
 },
 "nbformat": 4,
 "nbformat_minor": 2
}
